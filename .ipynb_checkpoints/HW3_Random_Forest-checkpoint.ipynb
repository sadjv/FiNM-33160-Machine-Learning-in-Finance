{
 "cells": [
  {
   "cell_type": "code",
   "execution_count": 1,
   "id": "7a6e0de8",
   "metadata": {},
   "outputs": [],
   "source": [
    "import pandas as pd\n",
    "import numpy as np\n",
    "import matplotlib.pyplot as plt\n",
    "%matplotlib inline\n",
    "from sklearn.metrics import accuracy_score, confusion_matrix\n",
    "from sklearn.tree import DecisionTreeClassifier\n",
    "from sklearn.ensemble import AdaBoostClassifier\n",
    "import sklearn\n",
    "pd.set_option('use_inf_as_na', True)\n",
    "from collections import Counter"
   ]
  },
  {
   "cell_type": "code",
   "execution_count": 2,
   "id": "7c353461",
   "metadata": {},
   "outputs": [],
   "source": [
    "import _pickle as cPickle"
   ]
  },
  {
   "cell_type": "code",
   "execution_count": 3,
   "id": "79e1d66d",
   "metadata": {},
   "outputs": [],
   "source": [
    "from sklearn.preprocessing import MinMaxScaler,StandardScaler\n",
    "scaler = StandardScaler()"
   ]
  },
  {
   "cell_type": "code",
   "execution_count": 4,
   "id": "6103f8b5",
   "metadata": {},
   "outputs": [],
   "source": [
    "raw_data = pd.read_pickle(r'/Users/jinnan2/Desktop/uchi course/FInM/lec10/hw3/dataset.pkl')\n",
    "\n",
    "data = raw_data[raw_data['market_cap'] > 1000.0]\n",
    "data = data.copy()\n",
    "data.fillna(0.0,inplace=True)"
   ]
  },
  {
   "cell_type": "markdown",
   "id": "cfe6021d",
   "metadata": {},
   "source": [
    "# Label one"
   ]
  },
  {
   "cell_type": "code",
   "execution_count": 5,
   "id": "28b569e2",
   "metadata": {},
   "outputs": [],
   "source": [
    "def f(x):\n",
    "    if x > 0.01:\n",
    "        return 1\n",
    "    elif x < -0.025:\n",
    "\n",
    "        return -1\n",
    "    else:   \n",
    "        return 0"
   ]
  },
  {
   "cell_type": "code",
   "execution_count": 6,
   "id": "94500070",
   "metadata": {},
   "outputs": [],
   "source": [
    "data['rel_performance'] = data['pred_rel_return'].apply(f)\n",
    "data.reset_index(inplace=True,)\n",
    "data.set_index('date',inplace=True)"
   ]
  },
  {
   "cell_type": "code",
   "execution_count": 7,
   "id": "306fed47",
   "metadata": {},
   "outputs": [
    {
     "data": {
      "text/html": [
       "<div>\n",
       "<style scoped>\n",
       "    .dataframe tbody tr th:only-of-type {\n",
       "        vertical-align: middle;\n",
       "    }\n",
       "\n",
       "    .dataframe tbody tr th {\n",
       "        vertical-align: top;\n",
       "    }\n",
       "\n",
       "    .dataframe thead th {\n",
       "        text-align: right;\n",
       "    }\n",
       "</style>\n",
       "<table border=\"1\" class=\"dataframe\">\n",
       "  <thead>\n",
       "    <tr style=\"text-align: right;\">\n",
       "      <th></th>\n",
       "      <th>ticker</th>\n",
       "      <th>actq</th>\n",
       "      <th>apq</th>\n",
       "      <th>atq</th>\n",
       "      <th>ceqq</th>\n",
       "      <th>cheq</th>\n",
       "      <th>cogsq</th>\n",
       "      <th>csh12q</th>\n",
       "      <th>cshfdq</th>\n",
       "      <th>cshiq</th>\n",
       "      <th>...</th>\n",
       "      <th>sector_code_817.0</th>\n",
       "      <th>sector_code_822.0</th>\n",
       "      <th>sector_code_823.0</th>\n",
       "      <th>sector_code_825.0</th>\n",
       "      <th>sector_code_830.0</th>\n",
       "      <th>sector_code_835.0</th>\n",
       "      <th>sector_code_840.0</th>\n",
       "      <th>sector_code_845.0</th>\n",
       "      <th>sector_code_850.0</th>\n",
       "      <th>rel_performance</th>\n",
       "    </tr>\n",
       "    <tr>\n",
       "      <th>date</th>\n",
       "      <th></th>\n",
       "      <th></th>\n",
       "      <th></th>\n",
       "      <th></th>\n",
       "      <th></th>\n",
       "      <th></th>\n",
       "      <th></th>\n",
       "      <th></th>\n",
       "      <th></th>\n",
       "      <th></th>\n",
       "      <th></th>\n",
       "      <th></th>\n",
       "      <th></th>\n",
       "      <th></th>\n",
       "      <th></th>\n",
       "      <th></th>\n",
       "      <th></th>\n",
       "      <th></th>\n",
       "      <th></th>\n",
       "      <th></th>\n",
       "      <th></th>\n",
       "    </tr>\n",
       "  </thead>\n",
       "  <tbody>\n",
       "    <tr>\n",
       "      <th>2000-02-09</th>\n",
       "      <td>CSCO</td>\n",
       "      <td>7722.000</td>\n",
       "      <td>482.000</td>\n",
       "      <td>21391.000</td>\n",
       "      <td>16523.000</td>\n",
       "      <td>3968.000</td>\n",
       "      <td>1422.000</td>\n",
       "      <td>3374.1250</td>\n",
       "      <td>3648.000</td>\n",
       "      <td>3445.000</td>\n",
       "      <td>...</td>\n",
       "      <td>0</td>\n",
       "      <td>0</td>\n",
       "      <td>0</td>\n",
       "      <td>0</td>\n",
       "      <td>0</td>\n",
       "      <td>0</td>\n",
       "      <td>0</td>\n",
       "      <td>0</td>\n",
       "      <td>0</td>\n",
       "      <td>-1</td>\n",
       "    </tr>\n",
       "    <tr>\n",
       "      <th>2000-02-09</th>\n",
       "      <td>ROP</td>\n",
       "      <td>172.725</td>\n",
       "      <td>19.662</td>\n",
       "      <td>474.649</td>\n",
       "      <td>239.432</td>\n",
       "      <td>3.198</td>\n",
       "      <td>47.634</td>\n",
       "      <td>30.2688</td>\n",
       "      <td>31.217</td>\n",
       "      <td>0.000</td>\n",
       "      <td>...</td>\n",
       "      <td>0</td>\n",
       "      <td>0</td>\n",
       "      <td>0</td>\n",
       "      <td>0</td>\n",
       "      <td>0</td>\n",
       "      <td>0</td>\n",
       "      <td>0</td>\n",
       "      <td>0</td>\n",
       "      <td>0</td>\n",
       "      <td>1</td>\n",
       "    </tr>\n",
       "    <tr>\n",
       "      <th>2000-02-10</th>\n",
       "      <td>CMOS</td>\n",
       "      <td>240.767</td>\n",
       "      <td>27.044</td>\n",
       "      <td>376.536</td>\n",
       "      <td>209.411</td>\n",
       "      <td>68.625</td>\n",
       "      <td>43.023</td>\n",
       "      <td>21.4360</td>\n",
       "      <td>23.753</td>\n",
       "      <td>0.000</td>\n",
       "      <td>...</td>\n",
       "      <td>0</td>\n",
       "      <td>0</td>\n",
       "      <td>0</td>\n",
       "      <td>0</td>\n",
       "      <td>0</td>\n",
       "      <td>0</td>\n",
       "      <td>0</td>\n",
       "      <td>0</td>\n",
       "      <td>0</td>\n",
       "      <td>1</td>\n",
       "    </tr>\n",
       "    <tr>\n",
       "      <th>2000-02-11</th>\n",
       "      <td>DELL</td>\n",
       "      <td>7681.000</td>\n",
       "      <td>3538.000</td>\n",
       "      <td>11471.000</td>\n",
       "      <td>5308.000</td>\n",
       "      <td>4132.000</td>\n",
       "      <td>5452.000</td>\n",
       "      <td>2536.0000</td>\n",
       "      <td>2731.000</td>\n",
       "      <td>2575.000</td>\n",
       "      <td>...</td>\n",
       "      <td>0</td>\n",
       "      <td>0</td>\n",
       "      <td>0</td>\n",
       "      <td>0</td>\n",
       "      <td>0</td>\n",
       "      <td>0</td>\n",
       "      <td>0</td>\n",
       "      <td>0</td>\n",
       "      <td>0</td>\n",
       "      <td>1</td>\n",
       "    </tr>\n",
       "    <tr>\n",
       "      <th>2000-02-15</th>\n",
       "      <td>VAL</td>\n",
       "      <td>507.082</td>\n",
       "      <td>139.497</td>\n",
       "      <td>1094.080</td>\n",
       "      <td>402.382</td>\n",
       "      <td>27.605</td>\n",
       "      <td>221.366</td>\n",
       "      <td>43.1858</td>\n",
       "      <td>43.687</td>\n",
       "      <td>53.321</td>\n",
       "      <td>...</td>\n",
       "      <td>0</td>\n",
       "      <td>0</td>\n",
       "      <td>0</td>\n",
       "      <td>0</td>\n",
       "      <td>0</td>\n",
       "      <td>0</td>\n",
       "      <td>0</td>\n",
       "      <td>0</td>\n",
       "      <td>0</td>\n",
       "      <td>1</td>\n",
       "    </tr>\n",
       "  </tbody>\n",
       "</table>\n",
       "<p>5 rows × 733 columns</p>\n",
       "</div>"
      ],
      "text/plain": [
       "           ticker      actq       apq        atq       ceqq      cheq  \\\n",
       "date                                                                    \n",
       "2000-02-09   CSCO  7722.000   482.000  21391.000  16523.000  3968.000   \n",
       "2000-02-09    ROP   172.725    19.662    474.649    239.432     3.198   \n",
       "2000-02-10   CMOS   240.767    27.044    376.536    209.411    68.625   \n",
       "2000-02-11   DELL  7681.000  3538.000  11471.000   5308.000  4132.000   \n",
       "2000-02-15    VAL   507.082   139.497   1094.080    402.382    27.605   \n",
       "\n",
       "               cogsq     csh12q    cshfdq     cshiq  ...  sector_code_817.0  \\\n",
       "date                                                 ...                      \n",
       "2000-02-09  1422.000  3374.1250  3648.000  3445.000  ...                  0   \n",
       "2000-02-09    47.634    30.2688    31.217     0.000  ...                  0   \n",
       "2000-02-10    43.023    21.4360    23.753     0.000  ...                  0   \n",
       "2000-02-11  5452.000  2536.0000  2731.000  2575.000  ...                  0   \n",
       "2000-02-15   221.366    43.1858    43.687    53.321  ...                  0   \n",
       "\n",
       "            sector_code_822.0  sector_code_823.0  sector_code_825.0  \\\n",
       "date                                                                  \n",
       "2000-02-09                  0                  0                  0   \n",
       "2000-02-09                  0                  0                  0   \n",
       "2000-02-10                  0                  0                  0   \n",
       "2000-02-11                  0                  0                  0   \n",
       "2000-02-15                  0                  0                  0   \n",
       "\n",
       "            sector_code_830.0  sector_code_835.0  sector_code_840.0  \\\n",
       "date                                                                  \n",
       "2000-02-09                  0                  0                  0   \n",
       "2000-02-09                  0                  0                  0   \n",
       "2000-02-10                  0                  0                  0   \n",
       "2000-02-11                  0                  0                  0   \n",
       "2000-02-15                  0                  0                  0   \n",
       "\n",
       "            sector_code_845.0  sector_code_850.0  rel_performance  \n",
       "date                                                               \n",
       "2000-02-09                  0                  0               -1  \n",
       "2000-02-09                  0                  0                1  \n",
       "2000-02-10                  0                  0                1  \n",
       "2000-02-11                  0                  0                1  \n",
       "2000-02-15                  0                  0                1  \n",
       "\n",
       "[5 rows x 733 columns]"
      ]
     },
     "execution_count": 7,
     "metadata": {},
     "output_type": "execute_result"
    }
   ],
   "source": [
    "data.head()"
   ]
  },
  {
   "cell_type": "code",
   "execution_count": 8,
   "id": "b9cc261c",
   "metadata": {},
   "outputs": [],
   "source": [
    "df_1 = data.loc['2001-01-01':'2004-01-01']\n",
    "df_valid = data.loc['2004-04-01':'2004-07-01']\n",
    "df_test = data.loc['2004-10-01':'2005-01-01']"
   ]
  },
  {
   "cell_type": "code",
   "execution_count": 9,
   "id": "ab091988",
   "metadata": {},
   "outputs": [
    {
     "data": {
      "text/plain": [
       "DatetimeIndex(['2004-04-01', '2004-04-01', '2004-04-01', '2004-04-01',\n",
       "               '2004-04-01', '2004-04-01', '2004-04-02', '2004-04-02',\n",
       "               '2004-04-05', '2004-04-07',\n",
       "               ...\n",
       "               '2004-06-30', '2004-06-30', '2004-06-30', '2004-07-01',\n",
       "               '2004-07-01', '2004-07-01', '2004-07-01', '2004-07-01',\n",
       "               '2004-07-01', '2004-07-01'],\n",
       "              dtype='datetime64[ns]', name='date', length=1155, freq=None)"
      ]
     },
     "execution_count": 9,
     "metadata": {},
     "output_type": "execute_result"
    }
   ],
   "source": [
    "df_valid.reset_index(inplace=True,)\n",
    "df_valid.set_index(['date'],inplace=True)\n",
    "df_valid.index"
   ]
  },
  {
   "cell_type": "code",
   "execution_count": 10,
   "id": "e65cf1c6",
   "metadata": {},
   "outputs": [],
   "source": [
    "train_1 = df_1.reset_index().drop(['ticker','date',\n",
    "                                   'next_period_return',\n",
    "                                   'spy_next_period_return',\n",
    "                                   'rel_performance','pred_rel_return',\n",
    "                                  'return', 'cum_ret', 'spy_cum_ret'],axis=1)\n",
    "\n",
    "valid = df_valid.reset_index().drop(['ticker','date',\n",
    "                                    'next_period_return',\n",
    "                                   'spy_next_period_return',\n",
    "                                   'rel_performance','pred_rel_return',\n",
    "                                  'return', 'cum_ret', 'spy_cum_ret'],axis=1)\n",
    "test = df_test.reset_index().drop(['ticker','date',\n",
    "                                   'next_period_return',\n",
    "                                   'spy_next_period_return',\n",
    "                                   'rel_performance','pred_rel_return',\n",
    "                                  'return', 'cum_ret', 'spy_cum_ret'],axis=1)"
   ]
  },
  {
   "cell_type": "code",
   "execution_count": 11,
   "id": "cfb991f4",
   "metadata": {},
   "outputs": [],
   "source": [
    "train_1_stock_returns = df_1['next_period_return']\n",
    "valid_stock_returns = df_valid['next_period_return']\n",
    "test_stock_returns = df_test['next_period_return']\n",
    "\n",
    "y_1 = df_1['rel_performance']\n",
    "y_valid = df_valid['rel_performance']\n",
    "y_test = df_test['rel_performance']\n",
    "\n",
    "y_1 = y_1.values\n",
    "y_valid = y_valid.values\n",
    "y_test = y_test.values"
   ]
  },
  {
   "cell_type": "code",
   "execution_count": 12,
   "id": "1f6e93f1",
   "metadata": {},
   "outputs": [],
   "source": [
    "import optuna\n",
    "from optuna.trial import Trial\n",
    "optuna.logging.set_verbosity(optuna.logging.FATAL)\n",
    "import warnings\n",
    "warnings.filterwarnings(\"ignore\")"
   ]
  },
  {
   "cell_type": "code",
   "execution_count": 13,
   "id": "94d774e7",
   "metadata": {},
   "outputs": [],
   "source": [
    "optimal_hyperparameters = []"
   ]
  },
  {
   "cell_type": "markdown",
   "id": "2616e1fc",
   "metadata": {},
   "source": [
    "## Optimal hyparameters using accuracy"
   ]
  },
  {
   "cell_type": "code",
   "execution_count": 34,
   "id": "3b94cbb2",
   "metadata": {},
   "outputs": [],
   "source": [
    "def objective(trial:Trial,train=None,labels=None,val=None,val_labels=None,val_rets=None):\n",
    "\n",
    "    ada_m_depth = trial.suggest_int('max_depth',1,5)\n",
    "    ada_n_estimators = trial.suggest_int('n_estimators', 10,100,step=10)\n",
    "    ada_learning_rate = trial.suggest_float('learning_rate',0.1,0.5, step=0.1)\n",
    "\n",
    "    \n",
    "    ada_clf = AdaBoostClassifier(DecisionTreeClassifier(max_depth=ada_m_depth),\n",
    "                                 n_estimators=ada_n_estimators,\n",
    "                                 learning_rate=ada_learning_rate,\n",
    "                                 algorithm=\"SAMME.R\")\n",
    "\n",
    "    ada_clf.fit(train,labels)\n",
    "    preds = ada_clf.predict(val)\n",
    "    accuracy = ada_clf.score(val,val_labels)\n",
    " \n",
    "    return accuracy"
   ]
  },
  {
   "cell_type": "code",
   "execution_count": 35,
   "id": "fffa9afb",
   "metadata": {},
   "outputs": [],
   "source": [
    "study = optuna.create_study(direction=\"maximize\")\n",
    "from functools import partial"
   ]
  },
  {
   "cell_type": "code",
   "execution_count": 36,
   "id": "9d3a0219",
   "metadata": {},
   "outputs": [
    {
     "name": "stdout",
     "output_type": "stream",
     "text": [
      "CPU times: user 22min 25s, sys: 25 s, total: 22min 50s\n",
      "Wall time: 8min 16s\n"
     ]
    }
   ],
   "source": [
    "%%time\n",
    "study.optimize(partial(objective,train=train_1,labels=y_1,val=valid,val_labels=y_valid,\n",
    "                       val_rets=valid_stock_returns), n_trials=25,n_jobs=-1)"
   ]
  },
  {
   "cell_type": "code",
   "execution_count": 37,
   "id": "dd1f65ad",
   "metadata": {},
   "outputs": [
    {
     "data": {
      "text/plain": [
       "{'max_depth': 3, 'n_estimators': 50, 'learning_rate': 0.4}"
      ]
     },
     "execution_count": 37,
     "metadata": {},
     "output_type": "execute_result"
    }
   ],
   "source": [
    "study.best_params"
   ]
  },
  {
   "cell_type": "code",
   "execution_count": 14,
   "id": "8a8cc515",
   "metadata": {},
   "outputs": [],
   "source": [
    "optimal_hyperparameters.append({'max_depth': 3, 'n_estimators': 50, 'learning_rate': 0.4})"
   ]
  },
  {
   "cell_type": "markdown",
   "id": "021071c4",
   "metadata": {},
   "source": [
    "## Optimal hyparameters using profit"
   ]
  },
  {
   "cell_type": "code",
   "execution_count": 53,
   "id": "e0316477",
   "metadata": {},
   "outputs": [],
   "source": [
    "def objective1(trial:Trial,train=None,labels=None,val=None,val_labels=None,val_rets=None):\n",
    "\n",
    "    ada_m_depth = trial.suggest_int('max_depth',1,5)\n",
    "    ada_n_estimators = trial.suggest_int('n_estimators', 10,100,step=10)\n",
    "    ada_learning_rate = trial.suggest_float('learning_rate',0.1,0.5, step=0.1)\n",
    "\n",
    "    \n",
    "    ada_clf = AdaBoostClassifier(DecisionTreeClassifier(max_depth=ada_m_depth),\n",
    "                                 n_estimators=ada_n_estimators,\n",
    "                                 learning_rate=ada_learning_rate,\n",
    "                                 algorithm=\"SAMME.R\")\n",
    "\n",
    "    ada_clf.fit(train,labels)\n",
    "    preds = ada_clf.predict(val)\n",
    "    profit = (preds * val_rets).sum()\n",
    "\n",
    "    return profit"
   ]
  },
  {
   "cell_type": "code",
   "execution_count": 54,
   "id": "a92093ae",
   "metadata": {},
   "outputs": [],
   "source": [
    "study = optuna.create_study(direction=\"maximize\")\n",
    "from functools import partial"
   ]
  },
  {
   "cell_type": "code",
   "execution_count": 55,
   "id": "7474a22e",
   "metadata": {},
   "outputs": [
    {
     "name": "stdout",
     "output_type": "stream",
     "text": [
      "CPU times: user 17min 11s, sys: 13.8 s, total: 17min 25s\n",
      "Wall time: 5min 26s\n"
     ]
    }
   ],
   "source": [
    "%%time\n",
    "study.optimize(partial(objective1,train=train_1,labels=y_1,val=valid,\n",
    "                       val_labels=y_valid,val_rets=valid_stock_returns), n_trials=20,n_jobs=-1)"
   ]
  },
  {
   "cell_type": "code",
   "execution_count": 58,
   "id": "3ab93907",
   "metadata": {},
   "outputs": [
    {
     "data": {
      "text/plain": [
       "{'max_depth': 5, 'n_estimators': 10, 'learning_rate': 0.5}"
      ]
     },
     "execution_count": 58,
     "metadata": {},
     "output_type": "execute_result"
    }
   ],
   "source": [
    "study.best_params"
   ]
  },
  {
   "cell_type": "code",
   "execution_count": 15,
   "id": "bebfa858",
   "metadata": {},
   "outputs": [],
   "source": [
    "optimal_hyperparameters.append({'max_depth': 5, 'n_estimators': 10, 'learning_rate': 0.5})"
   ]
  },
  {
   "cell_type": "markdown",
   "id": "baecf5f3",
   "metadata": {},
   "source": [
    "## Optimal hyperparameter using max_drawdown"
   ]
  },
  {
   "cell_type": "code",
   "execution_count": 60,
   "id": "51ab3da1",
   "metadata": {},
   "outputs": [],
   "source": [
    "# 3 month periods from 2004-04-01 to 2004-07-01\n",
    "start_dates = [pd.to_datetime('2004-04-01') + pd.DateOffset(months = i) for i in range(3)]\n",
    "valid_frames = [data.loc[d:d+pd.DateOffset(months = 1)] for d in start_dates]\n",
    "\n",
    "valid_data = [d.reset_index().drop(['ticker','date',\n",
    "                                   'next_period_return',\n",
    "                                   'spy_next_period_return',\n",
    "                                   'rel_performance','pred_rel_return',\n",
    "                                  'return', 'cum_ret', 'spy_cum_ret'],axis=1) for d in valid_frames]\n",
    "\n",
    "validation_labels = [d['rel_performance'].values for d in valid_frames]"
   ]
  },
  {
   "cell_type": "code",
   "execution_count": 61,
   "id": "2c24f7d9",
   "metadata": {},
   "outputs": [
    {
     "data": {
      "text/plain": [
       "[Timestamp('2004-04-01 00:00:00'),\n",
       " Timestamp('2004-05-01 00:00:00'),\n",
       " Timestamp('2004-06-01 00:00:00')]"
      ]
     },
     "execution_count": 61,
     "metadata": {},
     "output_type": "execute_result"
    }
   ],
   "source": [
    "start_dates"
   ]
  },
  {
   "cell_type": "code",
   "execution_count": 29,
   "id": "44cc0c9b",
   "metadata": {},
   "outputs": [],
   "source": [
    "def max_drawdown(returns):\n",
    "        local_max = [n for n in range(len(returns)-1) if ((n==0) and (returns[0] > returns[1])) or \n",
    "           ((n > 0) and  (returns[n-1]<returns[n]) and (returns[n+1]<returns[n]))] \n",
    "        \n",
    "        local_min = [n for n in range(1,len(returns)) if ((n == len(returns)-1) and (returns[-1] < returns[-2])) or\n",
    "                (returns[n-1]>returns[n]) and (returns[n+1]>returns[n])]\n",
    "        \n",
    "        def next_local_min(n):\n",
    "            if [m for m in local_min if m > n]:\n",
    "                return [m for m in local_min if m > n][0]\n",
    "            else: return None\n",
    "        \n",
    "        drawdowns = [(n,next_local_min(n)) for n in local_max]\n",
    "        drawdown_values = [returns[n] - returns[m] for (n,m) in drawdowns if m != None]\n",
    "        if drawdown_values:\n",
    "            return  np.max(drawdown_values)\n",
    "        else: return 0.0"
   ]
  },
  {
   "cell_type": "code",
   "execution_count": 46,
   "id": "fe176267",
   "metadata": {},
   "outputs": [],
   "source": [
    "def objective2(trial:Trial,train=None,labels=None,val=None,val_labels=None,val_rets=None):\n",
    "\n",
    "    ada_m_depth = trial.suggest_int('max_depth',1,5)\n",
    "    ada_n_estimators = trial.suggest_int('n_estimators', 10,100,step=10)\n",
    "    ada_learning_rate = trial.suggest_float('learning_rate',0.1,0.5, step=0.1)\n",
    "\n",
    "    \n",
    "    ada_clf = AdaBoostClassifier(DecisionTreeClassifier(max_depth=ada_m_depth),\n",
    "                                 n_estimators=ada_n_estimators,\n",
    "                                 learning_rate=ada_learning_rate,\n",
    "                                 algorithm=\"SAMME.R\")\n",
    "    ada_clf.fit(train,labels)\n",
    "    \n",
    "    x = [1]\n",
    "    for i in range(len(start_dates)):\n",
    "        pred_i = ada_clf.predict(valid_data[i])\n",
    "        profit_i = (pred_i * valid_frames[i]['next_period_return']).sum()\n",
    "        positions = np.sum(np.abs(pred_i))\n",
    "        x.append(x[i] + (x[i]/positions) * profit_i)\n",
    "    return -max_drawdown(x)"
   ]
  },
  {
   "cell_type": "code",
   "execution_count": 47,
   "id": "85aa75b9",
   "metadata": {},
   "outputs": [],
   "source": [
    "study = optuna.create_study(direction=\"maximize\")\n",
    "from functools import partial"
   ]
  },
  {
   "cell_type": "code",
   "execution_count": 48,
   "id": "cddde415",
   "metadata": {},
   "outputs": [
    {
     "name": "stdout",
     "output_type": "stream",
     "text": [
      "CPU times: user 25min 9s, sys: 20.3 s, total: 25min 29s\n",
      "Wall time: 8min 4s\n"
     ]
    }
   ],
   "source": [
    "%%time\n",
    "study.optimize(partial(objective2,train=train_1,labels=y_1,val=valid,\n",
    "                       val_labels=y_valid,val_rets=valid_stock_returns), n_trials=20,n_jobs=-1)"
   ]
  },
  {
   "cell_type": "code",
   "execution_count": 49,
   "id": "72cd43ef",
   "metadata": {},
   "outputs": [
    {
     "data": {
      "text/plain": [
       "{'max_depth': 5, 'n_estimators': 90, 'learning_rate': 0.2}"
      ]
     },
     "execution_count": 49,
     "metadata": {},
     "output_type": "execute_result"
    }
   ],
   "source": [
    "study.best_params"
   ]
  },
  {
   "cell_type": "code",
   "execution_count": 16,
   "id": "8fb956ae",
   "metadata": {},
   "outputs": [],
   "source": [
    "optimal_hyperparameters.append({'max_depth': 5, 'n_estimators': 90, 'learning_rate': 0.2})"
   ]
  },
  {
   "cell_type": "code",
   "execution_count": 17,
   "id": "2308fe1e",
   "metadata": {},
   "outputs": [
    {
     "data": {
      "text/plain": [
       "[{'max_depth': 3, 'n_estimators': 50, 'learning_rate': 0.4},\n",
       " {'max_depth': 5, 'n_estimators': 10, 'learning_rate': 0.5},\n",
       " {'max_depth': 5, 'n_estimators': 90, 'learning_rate': 0.2}]"
      ]
     },
     "execution_count": 17,
     "metadata": {},
     "output_type": "execute_result"
    }
   ],
   "source": [
    "optimal_hyperparameters"
   ]
  },
  {
   "cell_type": "code",
   "execution_count": 18,
   "id": "12ddf1c5",
   "metadata": {},
   "outputs": [],
   "source": [
    "classifier = AdaBoostClassifier(DecisionTreeClassifier(max_depth=3),n_estimators=50,learning_rate=0.4)\n",
    "classifier1 = AdaBoostClassifier(DecisionTreeClassifier(max_depth=5),n_estimators=10,learning_rate=0.5)\n",
    "classifier2 = AdaBoostClassifier(DecisionTreeClassifier(max_depth=5),n_estimators=90,learning_rate=0.2)"
   ]
  },
  {
   "cell_type": "code",
   "execution_count": null,
   "id": "88d3c0ed",
   "metadata": {},
   "outputs": [],
   "source": []
  },
  {
   "cell_type": "markdown",
   "id": "35604935",
   "metadata": {},
   "source": [
    "## Using optimal features and optimal hyperparameters (accuracy) to calculate max_drawdown"
   ]
  },
  {
   "cell_type": "code",
   "execution_count": 19,
   "id": "43a1b72e",
   "metadata": {},
   "outputs": [],
   "source": [
    "with open(r'shap_features_ada.pkl','rb') as f:\n",
    "    shap_features = cPickle.load(f)"
   ]
  },
  {
   "cell_type": "code",
   "execution_count": 20,
   "id": "ca79a3fe",
   "metadata": {},
   "outputs": [],
   "source": [
    "with open(r'shap_features_ada_01.pkl','rb') as f:\n",
    "    shap_features1 = cPickle.load(f)"
   ]
  },
  {
   "cell_type": "code",
   "execution_count": 21,
   "id": "1557dd90",
   "metadata": {},
   "outputs": [],
   "source": [
    "with open(r'shap_features_ada_02.pkl','rb') as f:\n",
    "    shap_features2 = cPickle.load(f)"
   ]
  },
  {
   "cell_type": "code",
   "execution_count": 22,
   "id": "28d7cb9d",
   "metadata": {},
   "outputs": [],
   "source": [
    "start_dates = [pd.to_datetime('2001-01-01') + pd.DateOffset(months = 3*i) for i in range(57)]\n",
    "end_dates = [d + pd.DateOffset(months = 36) for d in start_dates]\n",
    "\n",
    "training_frames = [data.loc[d:d+pd.DateOffset(months = 36)] for d in start_dates]\n",
    "valid_frames = [data.loc[d+pd.DateOffset(months = 3):d+pd.DateOffset(months = 6)] for d in end_dates]\n",
    "test_frames = [data.loc[d+pd.DateOffset(months = 9):d+pd.DateOffset(months = 12)] for d in end_dates]\n",
    "\n",
    "training_data = [d.reset_index().drop\n",
    "                                 (['ticker','date',\n",
    "                                   'next_period_return',\n",
    "                                   'spy_next_period_return',\n",
    "                                   'rel_performance','pred_rel_return',\n",
    "                                  'return', 'cum_ret', 'spy_cum_ret'],axis=1) for d in training_frames]\n",
    "\n",
    "valid_data = [d.reset_index().drop\n",
    "                                 (['ticker','date',\n",
    "                                   'next_period_return',\n",
    "                                   'spy_next_period_return',\n",
    "                                   'rel_performance','pred_rel_return',\n",
    "                                  'return', 'cum_ret', 'spy_cum_ret'],axis=1) for d in valid_frames]\n",
    "\n",
    "test_data = [d.reset_index().drop(['ticker','date',\n",
    "                                   'next_period_return',\n",
    "                                   'spy_next_period_return',\n",
    "                                   'rel_performance','pred_rel_return',\n",
    "                                  'return', 'cum_ret', 'spy_cum_ret'],axis=1) for d in test_frames]\n",
    "\n",
    "training_labels = [d['rel_performance'].values for d in training_frames]\n",
    "valid_labels = [d['rel_performance'].values for d in valid_frames] "
   ]
  },
  {
   "cell_type": "code",
   "execution_count": 23,
   "id": "923703b9",
   "metadata": {},
   "outputs": [],
   "source": [
    "for i in range(len(start_dates)-1):\n",
    "    float_vars = [x for x in training_data[i].columns if data[x].dtype == 'float64']\n",
    "\n",
    "    scaler = StandardScaler()\n",
    "    training_data[i] = training_data[i].copy()\n",
    "    valid_data[i] = valid_data[i].copy()\n",
    "    test_data[i] = test_data[i].copy()\n",
    "    training_data[i][float_vars] = scaler.fit_transform(training_data[i][float_vars])\n",
    "    valid_data[i][float_vars] = scaler.transform(valid_data[i][float_vars])\n",
    "    test_data[i][float_vars] = scaler.transform(test_data[i][float_vars])"
   ]
  },
  {
   "cell_type": "code",
   "execution_count": 24,
   "id": "7c8b5a60",
   "metadata": {},
   "outputs": [],
   "source": [
    "scalers = [StandardScaler() for i in range(len(start_dates)-1)]\n",
    "           \n",
    "opt_training_data2 = [pd.DataFrame(scalers[i].fit_transform(training_frames[i][shap_features[i]].values),\n",
    "                                   columns=shap_features[i]) for i in range(len(start_dates)-1)]\n",
    "opt_valid_data2 = [pd.DataFrame(scalers[i].fit_transform(training_frames[i][shap_features[i]].values),\n",
    "                                columns=shap_features[i]) for i in range(len(start_dates)-1)]\n",
    "opt_test_data2 = [pd.DataFrame(scalers[i].transform(test_frames[i][shap_features[i]].values),\n",
    "                               columns=shap_features[i]) for i in range(len(start_dates)-1)]"
   ]
  },
  {
   "cell_type": "code",
   "execution_count": 25,
   "id": "e8faebc4",
   "metadata": {},
   "outputs": [],
   "source": [
    "scalers = [StandardScaler() for i in range(len(start_dates)-1)]\n",
    "           \n",
    "opt_training_data1 = [pd.DataFrame(scalers[i].fit_transform(training_frames[i][shap_features1[i]].values),\n",
    "                                   columns=shap_features1[i]) for i in range(len(start_dates)-1)]\n",
    "opt_valid_data1 = [pd.DataFrame(scalers[i].fit_transform(training_frames[i][shap_features1[i]].values),\n",
    "                                columns=shap_features1[i]) for i in range(len(start_dates)-1)]\n",
    "opt_test_data1 = [pd.DataFrame(scalers[i].transform(test_frames[i][shap_features1[i]].values),\n",
    "                               columns=shap_features1[i]) for i in range(len(start_dates)-1)]"
   ]
  },
  {
   "cell_type": "code",
   "execution_count": 26,
   "id": "41b8194b",
   "metadata": {},
   "outputs": [],
   "source": [
    "scalers = [StandardScaler() for i in range(len(start_dates)-1)]\n",
    "           \n",
    "opt_training_data = [pd.DataFrame(scalers[i].fit_transform(training_frames[i][shap_features2[i]].values),\n",
    "                                  columns=shap_features2[i]) for i in range(len(start_dates)-1)]\n",
    "opt_valid_data = [pd.DataFrame(scalers[i].fit_transform(training_frames[i][shap_features2[i]].values),\n",
    "                               columns=shap_features2[i]) for i in range(len(start_dates)-1)]\n",
    "opt_test_data = [pd.DataFrame(scalers[i].transform(test_frames[i][shap_features2[i]].values),\n",
    "                              columns=shap_features2[i]) for i in range(len(start_dates)-1)]"
   ]
  },
  {
   "cell_type": "markdown",
   "id": "48769bf6",
   "metadata": {},
   "source": [
    "### optimal feature set 1"
   ]
  },
  {
   "cell_type": "code",
   "execution_count": 76,
   "id": "56db902d",
   "metadata": {},
   "outputs": [],
   "source": [
    "x = [1]\n",
    "ret = []\n",
    "\n",
    "for i in range(len(start_dates)-1):\n",
    "        \n",
    "        classifier.fit(opt_training_data[i],training_labels[i])\n",
    "\n",
    "        preds = classifier.predict(opt_test_data[i])\n",
    "        profit_i = (preds*test_frames[i]['next_period_return']).sum()\n",
    "        ret.append(profit_i)\n",
    "        num_names = len(opt_test_data[i])\n",
    "        x.append(x[i] + (x[i]/num_names)*profit_i)"
   ]
  },
  {
   "cell_type": "code",
   "execution_count": 78,
   "id": "87dfecc6",
   "metadata": {},
   "outputs": [],
   "source": [
    "SPY = pd.read_pickle(r'/Users/jinnan2/Desktop/uchi course/FInM/lec10/hw3/SPY_cum_ret.pkl')\n",
    "SPY = SPY.loc['2004-09-01':'2018-09-30']\n",
    "SPY = SPY.resample('Q').ffill()\n",
    "SPY['spy_cum_ret'] = (SPY['spy_cum_ret'] - SPY['spy_cum_ret'][0] + 1)\n",
    "SPY['strategy'] = x"
   ]
  },
  {
   "cell_type": "code",
   "execution_count": 80,
   "id": "4d37f38d",
   "metadata": {},
   "outputs": [
    {
     "data": {
      "image/png": "[encoded data removed]",
      "text/plain": [
       "<Figure size 432x288 with 1 Axes>"
      ]
     },
     "metadata": {
      "needs_background": "light"
     },
     "output_type": "display_data"
    }
   ],
   "source": [
    "SPY.plot();"
   ]
  },
  {
   "cell_type": "code",
   "execution_count": 81,
   "id": "4c83fc2b",
   "metadata": {},
   "outputs": [
    {
     "name": "stdout",
     "output_type": "stream",
     "text": [
      "Strategy Sharpe Ratio:  0.41400937736909804\n"
     ]
    }
   ],
   "source": [
    "strategy_mean_ret = (SPY['strategy'] - 1).diff().mean()\n",
    "strategy_std = (SPY['strategy'] - 1).diff().std()\n",
    "strategy_sr = strategy_mean_ret/strategy_std\n",
    "print('Strategy Sharpe Ratio: ',strategy_sr)"
   ]
  },
  {
   "cell_type": "code",
   "execution_count": 97,
   "id": "9d37e215",
   "metadata": {},
   "outputs": [
    {
     "data": {
      "text/plain": [
       "0.5228390771394471"
      ]
     },
     "execution_count": 97,
     "metadata": {},
     "output_type": "execute_result"
    }
   ],
   "source": [
    "# starting_year='2005'\n",
    "# b = SPY.loc[starting_year]['strategy'].values\n",
    "# max_drawdown((SPY.loc[starting_year:]['strategy'] - b + 1).values)\n",
    "max_drawdown(SPY['strategy'])"
   ]
  },
  {
   "cell_type": "markdown",
   "id": "b205adef",
   "metadata": {},
   "source": [
    "### optimal feature set 2"
   ]
  },
  {
   "cell_type": "code",
   "execution_count": 137,
   "id": "cdee4c80",
   "metadata": {},
   "outputs": [],
   "source": [
    "x1 = [1]\n",
    "ret1 = []\n",
    "\n",
    "for i in range(len(start_dates)-1):\n",
    "        \n",
    "        classifier.fit(opt_training_data1[i],training_labels[i])\n",
    "\n",
    "        preds = classifier.predict(opt_test_data1[i])\n",
    "        profit_i = (preds*test_frames[i]['next_period_return']).sum()\n",
    "        ret1.append(profit_i)\n",
    "        num_names = len(opt_test_data1[i])\n",
    "        x1.append(x1[i] + (x1[i]/num_names)*profit_i)"
   ]
  },
  {
   "cell_type": "code",
   "execution_count": 138,
   "id": "1e387282",
   "metadata": {},
   "outputs": [
    {
     "data": {
      "image/png": "[encoded data removed]",
      "text/plain": [
       "<Figure size 432x288 with 1 Axes>"
      ]
     },
     "metadata": {
      "needs_background": "light"
     },
     "output_type": "display_data"
    }
   ],
   "source": [
    "SPY['strategy'] = x1\n",
    "SPY.plot();"
   ]
  },
  {
   "cell_type": "code",
   "execution_count": 139,
   "id": "15a4a639",
   "metadata": {},
   "outputs": [
    {
     "name": "stdout",
     "output_type": "stream",
     "text": [
      "Strategy Sharpe Ratio:  0.4698737430730971\n"
     ]
    }
   ],
   "source": [
    "strategy_mean_ret = (SPY['strategy'] - 1).diff().mean()\n",
    "strategy_std = (SPY['strategy'] - 1).diff().std()\n",
    "strategy_sr = strategy_mean_ret/strategy_std\n",
    "print('Strategy Sharpe Ratio: ',strategy_sr)"
   ]
  },
  {
   "cell_type": "code",
   "execution_count": 140,
   "id": "359e3ad6",
   "metadata": {},
   "outputs": [
    {
     "data": {
      "text/plain": [
       "0.38650269253175384"
      ]
     },
     "execution_count": 140,
     "metadata": {},
     "output_type": "execute_result"
    }
   ],
   "source": [
    "# starting_year='2005'\n",
    "# b = SPY.loc[starting_year]['strategy'].values\n",
    "# max_drawdown((SPY.loc[starting_year:]['strategy'] - b + 1).values)\n",
    "max_drawdown(SPY['strategy'])"
   ]
  },
  {
   "cell_type": "markdown",
   "id": "2d20755b",
   "metadata": {},
   "source": [
    "### optimal feature set 3"
   ]
  },
  {
   "cell_type": "code",
   "execution_count": 141,
   "id": "157574da",
   "metadata": {},
   "outputs": [],
   "source": [
    "x2 = [1]\n",
    "ret2 = []\n",
    "\n",
    "for i in range(len(start_dates)-1):\n",
    "        \n",
    "        classifier.fit(opt_training_data2[i],training_labels[i])\n",
    "\n",
    "        preds = classifier.predict(opt_test_data2[i])\n",
    "        profit_i = (preds*test_frames[i]['next_period_return']).sum()\n",
    "        ret2.append(profit_i)\n",
    "        num_names = len(opt_test_data2[i])\n",
    "        x2.append(x2[i] + (x2[i]/num_names)*profit_i)"
   ]
  },
  {
   "cell_type": "code",
   "execution_count": 143,
   "id": "df28c195",
   "metadata": {},
   "outputs": [
    {
     "data": {
      "image/png": "[encoded data removed]",
      "text/plain": [
       "<Figure size 432x288 with 1 Axes>"
      ]
     },
     "metadata": {
      "needs_background": "light"
     },
     "output_type": "display_data"
    }
   ],
   "source": [
    "SPY['strategy'] = x2\n",
    "SPY.plot();"
   ]
  },
  {
   "cell_type": "code",
   "execution_count": 144,
   "id": "49a64ef6",
   "metadata": {},
   "outputs": [
    {
     "name": "stdout",
     "output_type": "stream",
     "text": [
      "Strategy Sharpe Ratio:  0.44147782487587045\n"
     ]
    }
   ],
   "source": [
    "strategy_mean_ret = (SPY['strategy'] - 1).diff().mean()\n",
    "strategy_std = (SPY['strategy'] - 1).diff().std()\n",
    "strategy_sr = strategy_mean_ret/strategy_std\n",
    "print('Strategy Sharpe Ratio: ',strategy_sr)"
   ]
  },
  {
   "cell_type": "code",
   "execution_count": 145,
   "id": "3d753926",
   "metadata": {},
   "outputs": [
    {
     "data": {
      "text/plain": [
       "0.4573367224384044"
      ]
     },
     "execution_count": 145,
     "metadata": {},
     "output_type": "execute_result"
    }
   ],
   "source": [
    "# starting_year='2005'\n",
    "# b = SPY.loc[starting_year]['strategy'].values\n",
    "# max_drawdown((SPY.loc[starting_year:]['strategy'] - b + 1).values)\n",
    "max_drawdown(SPY['strategy'])"
   ]
  },
  {
   "cell_type": "markdown",
   "id": "351f92ce",
   "metadata": {},
   "source": [
    "## Using optimal features and optimal hyperparameters (profit) to calculate max_drawdown"
   ]
  },
  {
   "cell_type": "markdown",
   "id": "8cbcb649",
   "metadata": {},
   "source": [
    "### optimal feature set 1"
   ]
  },
  {
   "cell_type": "code",
   "execution_count": 148,
   "id": "1802c0a5",
   "metadata": {},
   "outputs": [],
   "source": [
    "x = [1]\n",
    "ret = []\n",
    "\n",
    "for i in range(len(start_dates)-1):\n",
    "        \n",
    "        classifier1.fit(opt_training_data[i],training_labels[i])\n",
    "\n",
    "        preds = classifier1.predict(opt_test_data[i])\n",
    "        profit_i = (preds*test_frames[i]['next_period_return']).sum()\n",
    "        ret.append(profit_i)\n",
    "        num_names = len(opt_test_data[i])\n",
    "        x.append(x[i] + (x[i]/num_names)*profit_i)"
   ]
  },
  {
   "cell_type": "code",
   "execution_count": 149,
   "id": "5750c245",
   "metadata": {},
   "outputs": [
    {
     "name": "stdout",
     "output_type": "stream",
     "text": [
      "Strategy Sharpe Ratio:  0.3647875046896272\n",
      "Maximun drawdown:  0.5319013004746018\n"
     ]
    },
    {
     "data": {
      "image/png": "[encoded data removed]",
      "text/plain": [
       "<Figure size 432x288 with 1 Axes>"
      ]
     },
     "metadata": {
      "needs_background": "light"
     },
     "output_type": "display_data"
    }
   ],
   "source": [
    "SPY = pd.read_pickle(r'/Users/jinnan2/Desktop/uchi course/FInM/lec10/hw3/SPY_cum_ret.pkl')\n",
    "SPY = SPY.loc['2004-09-01':'2018-09-30']\n",
    "SPY = SPY.resample('Q').ffill()\n",
    "SPY['spy_cum_ret'] = (SPY['spy_cum_ret'] - SPY['spy_cum_ret'][0] + 1)\n",
    "SPY['strategy'] = x\n",
    "\n",
    "SPY.plot();\n",
    "\n",
    "strategy_mean_ret = (SPY['strategy'] - 1).diff().mean()\n",
    "strategy_std = (SPY['strategy'] - 1).diff().std()\n",
    "strategy_sr = strategy_mean_ret/strategy_std\n",
    "print('Strategy Sharpe Ratio: ',strategy_sr)\n",
    "\n",
    "print('Maximun drawdown: ', max_drawdown(SPY['strategy']))"
   ]
  },
  {
   "cell_type": "markdown",
   "id": "3fae1424",
   "metadata": {},
   "source": [
    "### optimal feature set 2"
   ]
  },
  {
   "cell_type": "code",
   "execution_count": 150,
   "id": "c50c7ce4",
   "metadata": {},
   "outputs": [],
   "source": [
    "x1 = [1]\n",
    "ret1 = []\n",
    "\n",
    "for i in range(len(start_dates)-1):\n",
    "        \n",
    "        classifier1.fit(opt_training_data1[i],training_labels[i])\n",
    "\n",
    "        preds = classifier1.predict(opt_test_data1[i])\n",
    "        profit_i = (preds*test_frames[i]['next_period_return']).sum()\n",
    "        ret1.append(profit_i)\n",
    "        num_names = len(opt_test_data1[i])\n",
    "        x1.append(x1[i] + (x1[i]/num_names)*profit_i)"
   ]
  },
  {
   "cell_type": "code",
   "execution_count": 151,
   "id": "b3febafb",
   "metadata": {},
   "outputs": [
    {
     "name": "stdout",
     "output_type": "stream",
     "text": [
      "Strategy Sharpe Ratio:  0.450666269039878\n",
      "Maximun drawdown:  0.4000991051766989\n"
     ]
    },
    {
     "data": {
      "image/png": "[encoded data removed]",
      "text/plain": [
       "<Figure size 432x288 with 1 Axes>"
      ]
     },
     "metadata": {
      "needs_background": "light"
     },
     "output_type": "display_data"
    }
   ],
   "source": [
    "SPY = pd.read_pickle(r'/Users/jinnan2/Desktop/uchi course/FInM/lec10/hw3/SPY_cum_ret.pkl')\n",
    "SPY = SPY.loc['2004-09-01':'2018-09-30']\n",
    "SPY = SPY.resample('Q').ffill()\n",
    "SPY['spy_cum_ret'] = (SPY['spy_cum_ret'] - SPY['spy_cum_ret'][0] + 1)\n",
    "SPY['strategy'] = x1\n",
    "\n",
    "SPY.plot();\n",
    "\n",
    "strategy_mean_ret = (SPY['strategy'] - 1).diff().mean()\n",
    "strategy_std = (SPY['strategy'] - 1).diff().std()\n",
    "strategy_sr = strategy_mean_ret/strategy_std\n",
    "print('Strategy Sharpe Ratio: ',strategy_sr)\n",
    "\n",
    "print('Maximun drawdown: ', max_drawdown(SPY['strategy']))"
   ]
  },
  {
   "cell_type": "markdown",
   "id": "b73788d3",
   "metadata": {},
   "source": [
    "### optimal feature set 3"
   ]
  },
  {
   "cell_type": "code",
   "execution_count": 152,
   "id": "53cae12e",
   "metadata": {},
   "outputs": [],
   "source": [
    "x2 = [1]\n",
    "ret2 = []\n",
    "\n",
    "for i in range(len(start_dates)-1):\n",
    "        \n",
    "        classifier1.fit(opt_training_data2[i],training_labels[i])\n",
    "\n",
    "        preds = classifier1.predict(opt_test_data2[i])\n",
    "        profit_i = (preds*test_frames[i]['next_period_return']).sum()\n",
    "        ret2.append(profit_i)\n",
    "        num_names = len(opt_test_data2[i])\n",
    "        x2.append(x2[i] + (x2[i]/num_names)*profit_i)"
   ]
  },
  {
   "cell_type": "code",
   "execution_count": 153,
   "id": "920a0b4c",
   "metadata": {},
   "outputs": [
    {
     "name": "stdout",
     "output_type": "stream",
     "text": [
      "Strategy Sharpe Ratio:  0.45609554793891327\n",
      "Maximun drawdown:  0.40495392348912573\n"
     ]
    },
    {
     "data": {
      "image/png": "[encoded data removed]",
      "text/plain": [
       "<Figure size 432x288 with 1 Axes>"
      ]
     },
     "metadata": {
      "needs_background": "light"
     },
     "output_type": "display_data"
    }
   ],
   "source": [
    "SPY = pd.read_pickle(r'/Users/jinnan2/Desktop/uchi course/FInM/lec10/hw3/SPY_cum_ret.pkl')\n",
    "SPY = SPY.loc['2004-09-01':'2018-09-30']\n",
    "SPY = SPY.resample('Q').ffill()\n",
    "SPY['spy_cum_ret'] = (SPY['spy_cum_ret'] - SPY['spy_cum_ret'][0] + 1)\n",
    "SPY['strategy'] = x2\n",
    "\n",
    "SPY.plot();\n",
    "\n",
    "strategy_mean_ret = (SPY['strategy'] - 1).diff().mean()\n",
    "strategy_std = (SPY['strategy'] - 1).diff().std()\n",
    "strategy_sr = strategy_mean_ret/strategy_std\n",
    "print('Strategy Sharpe Ratio: ',strategy_sr)\n",
    "\n",
    "print('Maximun drawdown: ', max_drawdown(SPY['strategy']))"
   ]
  },
  {
   "cell_type": "markdown",
   "id": "07b56b7e",
   "metadata": {},
   "source": [
    "## Using optimal features and optimal hyperparameters (max_drawdown) to calculate max_drawdown"
   ]
  },
  {
   "cell_type": "markdown",
   "id": "7109194f",
   "metadata": {},
   "source": [
    "### optimal feature set 1"
   ]
  },
  {
   "cell_type": "code",
   "execution_count": 27,
   "id": "1419f778",
   "metadata": {},
   "outputs": [],
   "source": [
    "x = [1]\n",
    "ret = []\n",
    "\n",
    "for i in range(len(start_dates)-1):\n",
    "        \n",
    "        classifier2.fit(opt_training_data[i],training_labels[i])\n",
    "\n",
    "        preds = classifier2.predict(opt_test_data[i])\n",
    "        profit_i = (preds*test_frames[i]['next_period_return']).sum()\n",
    "        ret.append(profit_i)\n",
    "        num_names = len(opt_test_data[i])\n",
    "        x.append(x[i] + (x[i]/num_names)*profit_i)"
   ]
  },
  {
   "cell_type": "code",
   "execution_count": 30,
   "id": "ed99f196",
   "metadata": {},
   "outputs": [
    {
     "name": "stdout",
     "output_type": "stream",
     "text": [
      "Strategy Sharpe Ratio:  0.4211671578126219\n",
      "Maximun drawdown:  0.38558697034197364\n"
     ]
    },
    {
     "data": {
      "image/png": "[encoded data removed]",
      "text/plain": [
       "<Figure size 432x288 with 1 Axes>"
      ]
     },
     "metadata": {
      "needs_background": "light"
     },
     "output_type": "display_data"
    }
   ],
   "source": [
    "SPY = pd.read_pickle(r'/Users/jinnan2/Desktop/uchi course/FInM/lec10/hw3/SPY_cum_ret.pkl')\n",
    "SPY = SPY.loc['2004-09-01':'2018-09-30']\n",
    "SPY = SPY.resample('Q').ffill()\n",
    "SPY['spy_cum_ret'] = (SPY['spy_cum_ret'] - SPY['spy_cum_ret'][0] + 1)\n",
    "SPY['strategy'] = x\n",
    "\n",
    "SPY.plot();\n",
    "\n",
    "strategy_mean_ret = (SPY['strategy'] - 1).diff().mean()\n",
    "strategy_std = (SPY['strategy'] - 1).diff().std()\n",
    "strategy_sr = strategy_mean_ret/strategy_std\n",
    "print('Strategy Sharpe Ratio: ',strategy_sr)\n",
    "\n",
    "print('Maximun drawdown: ', max_drawdown(SPY['strategy']))"
   ]
  },
  {
   "cell_type": "markdown",
   "id": "ad9090a6",
   "metadata": {},
   "source": [
    "### optimal feature set 2"
   ]
  },
  {
   "cell_type": "code",
   "execution_count": 31,
   "id": "075ebf32",
   "metadata": {},
   "outputs": [],
   "source": [
    "x1 = [1]\n",
    "ret1 = []\n",
    "\n",
    "for i in range(len(start_dates)-1):\n",
    "        \n",
    "        classifier2.fit(opt_training_data1[i],training_labels[i])\n",
    "\n",
    "        preds = classifier2.predict(opt_test_data1[i])\n",
    "        profit_i = (preds*test_frames[i]['next_period_return']).sum()\n",
    "        ret1.append(profit_i)\n",
    "        num_names = len(opt_test_data1[i])\n",
    "        x1.append(x1[i] + (x1[i]/num_names)*profit_i)"
   ]
  },
  {
   "cell_type": "code",
   "execution_count": 32,
   "id": "e29f6f36",
   "metadata": {},
   "outputs": [
    {
     "name": "stdout",
     "output_type": "stream",
     "text": [
      "Strategy Sharpe Ratio:  0.44613388888909505\n",
      "Maximun drawdown:  0.30042090455229964\n"
     ]
    },
    {
     "data": {
      "image/png": "[encoded data removed]",
      "text/plain": [
       "<Figure size 432x288 with 1 Axes>"
      ]
     },
     "metadata": {
      "needs_background": "light"
     },
     "output_type": "display_data"
    }
   ],
   "source": [
    "SPY = pd.read_pickle(r'/Users/jinnan2/Desktop/uchi course/FInM/lec10/hw3/SPY_cum_ret.pkl')\n",
    "SPY = SPY.loc['2004-09-01':'2018-09-30']\n",
    "SPY = SPY.resample('Q').ffill()\n",
    "SPY['spy_cum_ret'] = (SPY['spy_cum_ret'] - SPY['spy_cum_ret'][0] + 1)\n",
    "SPY['strategy'] = x1\n",
    "\n",
    "SPY.plot();\n",
    "\n",
    "strategy_mean_ret = (SPY['strategy'] - 1).diff().mean()\n",
    "strategy_std = (SPY['strategy'] - 1).diff().std()\n",
    "strategy_sr = strategy_mean_ret/strategy_std\n",
    "print('Strategy Sharpe Ratio: ',strategy_sr)\n",
    "\n",
    "print('Maximun drawdown: ', max_drawdown(SPY['strategy']))"
   ]
  },
  {
   "cell_type": "markdown",
   "id": "a7fd053f",
   "metadata": {},
   "source": [
    "### optimal feature set 3"
   ]
  },
  {
   "cell_type": "code",
   "execution_count": 33,
   "id": "23360686",
   "metadata": {},
   "outputs": [],
   "source": [
    "x2 = [1]\n",
    "ret2 = []\n",
    "\n",
    "for i in range(len(start_dates)-1):\n",
    "        \n",
    "        classifier2.fit(opt_training_data2[i],training_labels[i])\n",
    "\n",
    "        preds = classifier2.predict(opt_test_data2[i])\n",
    "        profit_i = (preds*test_frames[i]['next_period_return']).sum()\n",
    "        ret2.append(profit_i)\n",
    "        num_names = len(opt_test_data2[i])\n",
    "        x2.append(x2[i] + (x2[i]/num_names)*profit_i)"
   ]
  },
  {
   "cell_type": "code",
   "execution_count": 34,
   "id": "f745e502",
   "metadata": {},
   "outputs": [
    {
     "name": "stdout",
     "output_type": "stream",
     "text": [
      "Strategy Sharpe Ratio:  0.41305808405569466\n",
      "Maximun drawdown:  0.34928564271876916\n"
     ]
    },
    {
     "data": {
      "image/png": "[encoded data removed]",
      "text/plain": [
       "<Figure size 432x288 with 1 Axes>"
      ]
     },
     "metadata": {
      "needs_background": "light"
     },
     "output_type": "display_data"
    }
   ],
   "source": [
    "SPY = pd.read_pickle(r'/Users/jinnan2/Desktop/uchi course/FInM/lec10/hw3/SPY_cum_ret.pkl')\n",
    "SPY = SPY.loc['2004-09-01':'2018-09-30']\n",
    "SPY = SPY.resample('Q').ffill()\n",
    "SPY['spy_cum_ret'] = (SPY['spy_cum_ret'] - SPY['spy_cum_ret'][0] + 1)\n",
    "SPY['strategy'] = x2\n",
    "\n",
    "SPY.plot();\n",
    "\n",
    "strategy_mean_ret = (SPY['strategy'] - 1).diff().mean()\n",
    "strategy_std = (SPY['strategy'] - 1).diff().std()\n",
    "strategy_sr = strategy_mean_ret/strategy_std\n",
    "print('Strategy Sharpe Ratio: ',strategy_sr)\n",
    "\n",
    "print('Maximun drawdown: ', max_drawdown(SPY['strategy']))"
   ]
  },
  {
   "cell_type": "code",
   "execution_count": null,
   "id": "38eb96b6",
   "metadata": {},
   "outputs": [],
   "source": []
  },
  {
   "cell_type": "markdown",
   "id": "2e532de3",
   "metadata": {},
   "source": [
    "# Label two"
   ]
  },
  {
   "cell_type": "code",
   "execution_count": 35,
   "id": "340614e6",
   "metadata": {},
   "outputs": [],
   "source": [
    "def f(x):\n",
    "    if x > 0.05:\n",
    "        return 1\n",
    "    elif x < -0.1:\n",
    "        return -1\n",
    "    else: \n",
    "        return 0"
   ]
  },
  {
   "cell_type": "code",
   "execution_count": 36,
   "id": "868a71a9",
   "metadata": {},
   "outputs": [],
   "source": [
    "data['rel_performance'] = data['pred_rel_return'].apply(f)\n",
    "data.reset_index(inplace=True,)\n",
    "data.set_index('date',inplace=True)"
   ]
  },
  {
   "cell_type": "code",
   "execution_count": 37,
   "id": "888106c2",
   "metadata": {},
   "outputs": [
    {
     "data": {
      "text/html": [
       "<div>\n",
       "<style scoped>\n",
       "    .dataframe tbody tr th:only-of-type {\n",
       "        vertical-align: middle;\n",
       "    }\n",
       "\n",
       "    .dataframe tbody tr th {\n",
       "        vertical-align: top;\n",
       "    }\n",
       "\n",
       "    .dataframe thead th {\n",
       "        text-align: right;\n",
       "    }\n",
       "</style>\n",
       "<table border=\"1\" class=\"dataframe\">\n",
       "  <thead>\n",
       "    <tr style=\"text-align: right;\">\n",
       "      <th></th>\n",
       "      <th>ticker</th>\n",
       "      <th>actq</th>\n",
       "      <th>apq</th>\n",
       "      <th>atq</th>\n",
       "      <th>ceqq</th>\n",
       "      <th>cheq</th>\n",
       "      <th>cogsq</th>\n",
       "      <th>csh12q</th>\n",
       "      <th>cshfdq</th>\n",
       "      <th>cshiq</th>\n",
       "      <th>...</th>\n",
       "      <th>sector_code_817.0</th>\n",
       "      <th>sector_code_822.0</th>\n",
       "      <th>sector_code_823.0</th>\n",
       "      <th>sector_code_825.0</th>\n",
       "      <th>sector_code_830.0</th>\n",
       "      <th>sector_code_835.0</th>\n",
       "      <th>sector_code_840.0</th>\n",
       "      <th>sector_code_845.0</th>\n",
       "      <th>sector_code_850.0</th>\n",
       "      <th>rel_performance</th>\n",
       "    </tr>\n",
       "    <tr>\n",
       "      <th>date</th>\n",
       "      <th></th>\n",
       "      <th></th>\n",
       "      <th></th>\n",
       "      <th></th>\n",
       "      <th></th>\n",
       "      <th></th>\n",
       "      <th></th>\n",
       "      <th></th>\n",
       "      <th></th>\n",
       "      <th></th>\n",
       "      <th></th>\n",
       "      <th></th>\n",
       "      <th></th>\n",
       "      <th></th>\n",
       "      <th></th>\n",
       "      <th></th>\n",
       "      <th></th>\n",
       "      <th></th>\n",
       "      <th></th>\n",
       "      <th></th>\n",
       "      <th></th>\n",
       "    </tr>\n",
       "  </thead>\n",
       "  <tbody>\n",
       "    <tr>\n",
       "      <th>2000-02-09</th>\n",
       "      <td>CSCO</td>\n",
       "      <td>7722.000</td>\n",
       "      <td>482.000</td>\n",
       "      <td>21391.000</td>\n",
       "      <td>16523.000</td>\n",
       "      <td>3968.000</td>\n",
       "      <td>1422.000</td>\n",
       "      <td>3374.1250</td>\n",
       "      <td>3648.000</td>\n",
       "      <td>3445.000</td>\n",
       "      <td>...</td>\n",
       "      <td>0</td>\n",
       "      <td>0</td>\n",
       "      <td>0</td>\n",
       "      <td>0</td>\n",
       "      <td>0</td>\n",
       "      <td>0</td>\n",
       "      <td>0</td>\n",
       "      <td>0</td>\n",
       "      <td>0</td>\n",
       "      <td>0</td>\n",
       "    </tr>\n",
       "    <tr>\n",
       "      <th>2000-02-09</th>\n",
       "      <td>ROP</td>\n",
       "      <td>172.725</td>\n",
       "      <td>19.662</td>\n",
       "      <td>474.649</td>\n",
       "      <td>239.432</td>\n",
       "      <td>3.198</td>\n",
       "      <td>47.634</td>\n",
       "      <td>30.2688</td>\n",
       "      <td>31.217</td>\n",
       "      <td>0.000</td>\n",
       "      <td>...</td>\n",
       "      <td>0</td>\n",
       "      <td>0</td>\n",
       "      <td>0</td>\n",
       "      <td>0</td>\n",
       "      <td>0</td>\n",
       "      <td>0</td>\n",
       "      <td>0</td>\n",
       "      <td>0</td>\n",
       "      <td>0</td>\n",
       "      <td>1</td>\n",
       "    </tr>\n",
       "    <tr>\n",
       "      <th>2000-02-10</th>\n",
       "      <td>CMOS</td>\n",
       "      <td>240.767</td>\n",
       "      <td>27.044</td>\n",
       "      <td>376.536</td>\n",
       "      <td>209.411</td>\n",
       "      <td>68.625</td>\n",
       "      <td>43.023</td>\n",
       "      <td>21.4360</td>\n",
       "      <td>23.753</td>\n",
       "      <td>0.000</td>\n",
       "      <td>...</td>\n",
       "      <td>0</td>\n",
       "      <td>0</td>\n",
       "      <td>0</td>\n",
       "      <td>0</td>\n",
       "      <td>0</td>\n",
       "      <td>0</td>\n",
       "      <td>0</td>\n",
       "      <td>0</td>\n",
       "      <td>0</td>\n",
       "      <td>1</td>\n",
       "    </tr>\n",
       "    <tr>\n",
       "      <th>2000-02-11</th>\n",
       "      <td>DELL</td>\n",
       "      <td>7681.000</td>\n",
       "      <td>3538.000</td>\n",
       "      <td>11471.000</td>\n",
       "      <td>5308.000</td>\n",
       "      <td>4132.000</td>\n",
       "      <td>5452.000</td>\n",
       "      <td>2536.0000</td>\n",
       "      <td>2731.000</td>\n",
       "      <td>2575.000</td>\n",
       "      <td>...</td>\n",
       "      <td>0</td>\n",
       "      <td>0</td>\n",
       "      <td>0</td>\n",
       "      <td>0</td>\n",
       "      <td>0</td>\n",
       "      <td>0</td>\n",
       "      <td>0</td>\n",
       "      <td>0</td>\n",
       "      <td>0</td>\n",
       "      <td>1</td>\n",
       "    </tr>\n",
       "    <tr>\n",
       "      <th>2000-02-15</th>\n",
       "      <td>VAL</td>\n",
       "      <td>507.082</td>\n",
       "      <td>139.497</td>\n",
       "      <td>1094.080</td>\n",
       "      <td>402.382</td>\n",
       "      <td>27.605</td>\n",
       "      <td>221.366</td>\n",
       "      <td>43.1858</td>\n",
       "      <td>43.687</td>\n",
       "      <td>53.321</td>\n",
       "      <td>...</td>\n",
       "      <td>0</td>\n",
       "      <td>0</td>\n",
       "      <td>0</td>\n",
       "      <td>0</td>\n",
       "      <td>0</td>\n",
       "      <td>0</td>\n",
       "      <td>0</td>\n",
       "      <td>0</td>\n",
       "      <td>0</td>\n",
       "      <td>0</td>\n",
       "    </tr>\n",
       "  </tbody>\n",
       "</table>\n",
       "<p>5 rows × 733 columns</p>\n",
       "</div>"
      ],
      "text/plain": [
       "           ticker      actq       apq        atq       ceqq      cheq  \\\n",
       "date                                                                    \n",
       "2000-02-09   CSCO  7722.000   482.000  21391.000  16523.000  3968.000   \n",
       "2000-02-09    ROP   172.725    19.662    474.649    239.432     3.198   \n",
       "2000-02-10   CMOS   240.767    27.044    376.536    209.411    68.625   \n",
       "2000-02-11   DELL  7681.000  3538.000  11471.000   5308.000  4132.000   \n",
       "2000-02-15    VAL   507.082   139.497   1094.080    402.382    27.605   \n",
       "\n",
       "               cogsq     csh12q    cshfdq     cshiq  ...  sector_code_817.0  \\\n",
       "date                                                 ...                      \n",
       "2000-02-09  1422.000  3374.1250  3648.000  3445.000  ...                  0   \n",
       "2000-02-09    47.634    30.2688    31.217     0.000  ...                  0   \n",
       "2000-02-10    43.023    21.4360    23.753     0.000  ...                  0   \n",
       "2000-02-11  5452.000  2536.0000  2731.000  2575.000  ...                  0   \n",
       "2000-02-15   221.366    43.1858    43.687    53.321  ...                  0   \n",
       "\n",
       "            sector_code_822.0  sector_code_823.0  sector_code_825.0  \\\n",
       "date                                                                  \n",
       "2000-02-09                  0                  0                  0   \n",
       "2000-02-09                  0                  0                  0   \n",
       "2000-02-10                  0                  0                  0   \n",
       "2000-02-11                  0                  0                  0   \n",
       "2000-02-15                  0                  0                  0   \n",
       "\n",
       "            sector_code_830.0  sector_code_835.0  sector_code_840.0  \\\n",
       "date                                                                  \n",
       "2000-02-09                  0                  0                  0   \n",
       "2000-02-09                  0                  0                  0   \n",
       "2000-02-10                  0                  0                  0   \n",
       "2000-02-11                  0                  0                  0   \n",
       "2000-02-15                  0                  0                  0   \n",
       "\n",
       "            sector_code_845.0  sector_code_850.0  rel_performance  \n",
       "date                                                               \n",
       "2000-02-09                  0                  0                0  \n",
       "2000-02-09                  0                  0                1  \n",
       "2000-02-10                  0                  0                1  \n",
       "2000-02-11                  0                  0                1  \n",
       "2000-02-15                  0                  0                0  \n",
       "\n",
       "[5 rows x 733 columns]"
      ]
     },
     "execution_count": 37,
     "metadata": {},
     "output_type": "execute_result"
    }
   ],
   "source": [
    "data.head()"
   ]
  },
  {
   "cell_type": "code",
   "execution_count": 38,
   "id": "be07fb03",
   "metadata": {},
   "outputs": [],
   "source": [
    "df_1 = data.loc['2001-01-01':'2004-01-01']\n",
    "df_valid = data.loc['2004-04-01':'2004-07-01']\n",
    "df_test = data.loc['2004-10-01':'2005-01-01']\n",
    "\n",
    "df_valid.reset_index(inplace=True,)\n",
    "df_valid.set_index(['date'],inplace=True)\n",
    "df_valid.index\n",
    "\n",
    "train_1 = df_1.reset_index().drop(['ticker','date',\n",
    "                                   'next_period_return',\n",
    "                                   'spy_next_period_return',\n",
    "                                   'rel_performance','pred_rel_return',\n",
    "                                  'return', 'cum_ret', 'spy_cum_ret'],axis=1)\n",
    "\n",
    "valid = df_valid.reset_index().drop(['ticker','date',\n",
    "                                    'next_period_return',\n",
    "                                   'spy_next_period_return',\n",
    "                                   'rel_performance','pred_rel_return',\n",
    "                                  'return', 'cum_ret', 'spy_cum_ret'],axis=1)\n",
    "test = df_test.reset_index().drop(['ticker','date',\n",
    "                                   'next_period_return',\n",
    "                                   'spy_next_period_return',\n",
    "                                   'rel_performance','pred_rel_return',\n",
    "                                  'return', 'cum_ret', 'spy_cum_ret'],axis=1)\n",
    "\n",
    "train_1_stock_returns = df_1['next_period_return']\n",
    "valid_stock_returns = df_valid['next_period_return']\n",
    "test_stock_returns = df_test['next_period_return']\n",
    "\n",
    "y_1 = df_1['rel_performance']\n",
    "y_valid = df_valid['rel_performance']\n",
    "y_test = df_test['rel_performance']\n",
    "\n",
    "y_1 = y_1.values\n",
    "y_valid = y_valid.values\n",
    "y_test = y_test.values"
   ]
  },
  {
   "cell_type": "code",
   "execution_count": 39,
   "id": "3a565efc",
   "metadata": {},
   "outputs": [],
   "source": [
    "start_dates = [pd.to_datetime('2001-01-01') + pd.DateOffset(months = 3*i) for i in range(57)]\n",
    "end_dates = [d + pd.DateOffset(months = 36) for d in start_dates]\n",
    "\n",
    "training_frames = [data.loc[d:d+pd.DateOffset(months = 36)] for d in start_dates]\n",
    "valid_frames = [data.loc[d+pd.DateOffset(months = 3):d+pd.DateOffset(months = 6)] for d in end_dates]\n",
    "test_frames = [data.loc[d+pd.DateOffset(months = 9):d+pd.DateOffset(months = 12)] for d in end_dates]\n",
    "\n",
    "training_data = [d.reset_index().drop\n",
    "                                 (['ticker','date',\n",
    "                                   'next_period_return',\n",
    "                                   'spy_next_period_return',\n",
    "                                   'rel_performance','pred_rel_return',\n",
    "                                  'return', 'cum_ret', 'spy_cum_ret'],axis=1) for d in training_frames]\n",
    "\n",
    "valid_data = [d.reset_index().drop\n",
    "                                 (['ticker','date',\n",
    "                                   'next_period_return',\n",
    "                                   'spy_next_period_return',\n",
    "                                   'rel_performance','pred_rel_return',\n",
    "                                  'return', 'cum_ret', 'spy_cum_ret'],axis=1) for d in valid_frames]\n",
    "\n",
    "test_data = [d.reset_index().drop(['ticker','date',\n",
    "                                   'next_period_return',\n",
    "                                   'spy_next_period_return',\n",
    "                                   'rel_performance','pred_rel_return',\n",
    "                                  'return', 'cum_ret', 'spy_cum_ret'],axis=1) for d in test_frames]\n",
    "\n",
    "training_labels = [d['rel_performance'].values for d in training_frames]\n",
    "valid_labels = [d['rel_performance'].values for d in valid_frames] "
   ]
  },
  {
   "cell_type": "code",
   "execution_count": 40,
   "id": "ed4a2d53",
   "metadata": {},
   "outputs": [],
   "source": [
    "for i in range(len(start_dates)-1):\n",
    "    float_vars = [x for x in training_data[i].columns if data[x].dtype == 'float64']\n",
    "\n",
    "    scaler = StandardScaler()\n",
    "    training_data[i] = training_data[i].copy()\n",
    "    valid_data[i] = valid_data[i].copy()\n",
    "    test_data[i] = test_data[i].copy()\n",
    "    training_data[i][float_vars] = scaler.fit_transform(training_data[i][float_vars])\n",
    "    valid_data[i][float_vars] = scaler.transform(valid_data[i][float_vars])\n",
    "    test_data[i][float_vars] = scaler.transform(test_data[i][float_vars])\n",
    "    \n",
    "scalers = [StandardScaler() for i in range(len(start_dates)-1)]\n",
    "           \n",
    "opt_training_data2 = [pd.DataFrame(scalers[i].fit_transform(training_frames[i][shap_features[i]].values),\n",
    "                                   columns=shap_features[i]) for i in range(len(start_dates)-1)]\n",
    "opt_valid_data2 = [pd.DataFrame(scalers[i].fit_transform(training_frames[i][shap_features[i]].values),\n",
    "                                columns=shap_features[i]) for i in range(len(start_dates)-1)]\n",
    "opt_test_data2 = [pd.DataFrame(scalers[i].transform(test_frames[i][shap_features[i]].values),\n",
    "                               columns=shap_features[i]) for i in range(len(start_dates)-1)]\n",
    "\n",
    "opt_training_data1 = [pd.DataFrame(scalers[i].fit_transform(training_frames[i][shap_features1[i]].values),\n",
    "                                   columns=shap_features1[i]) for i in range(len(start_dates)-1)]\n",
    "opt_valid_data1 = [pd.DataFrame(scalers[i].fit_transform(training_frames[i][shap_features1[i]].values),\n",
    "                                columns=shap_features1[i]) for i in range(len(start_dates)-1)]\n",
    "opt_test_data1 = [pd.DataFrame(scalers[i].transform(test_frames[i][shap_features1[i]].values),\n",
    "                               columns=shap_features1[i]) for i in range(len(start_dates)-1)]\n",
    "\n",
    "opt_training_data = [pd.DataFrame(scalers[i].fit_transform(training_frames[i][shap_features2[i]].values),\n",
    "                                  columns=shap_features2[i]) for i in range(len(start_dates)-1)]\n",
    "opt_valid_data = [pd.DataFrame(scalers[i].fit_transform(training_frames[i][shap_features2[i]].values),\n",
    "                               columns=shap_features2[i]) for i in range(len(start_dates)-1)]\n",
    "opt_test_data = [pd.DataFrame(scalers[i].transform(test_frames[i][shap_features2[i]].values),\n",
    "                              columns=shap_features2[i]) for i in range(len(start_dates)-1)]"
   ]
  },
  {
   "cell_type": "markdown",
   "id": "4707ad02",
   "metadata": {},
   "source": [
    "## Using optimal features and optimal hyperparameters (accuracy) to calculate max_drawdown"
   ]
  },
  {
   "cell_type": "code",
   "execution_count": 41,
   "id": "32be23da",
   "metadata": {},
   "outputs": [],
   "source": [
    "x = [1]\n",
    "ret = []\n",
    "\n",
    "for i in range(len(start_dates)-1):\n",
    "        \n",
    "        classifier.fit(opt_training_data[i],training_labels[i])\n",
    "\n",
    "        preds = classifier.predict(opt_test_data[i])\n",
    "        profit_i = (preds*test_frames[i]['next_period_return']).sum()\n",
    "        ret.append(profit_i)\n",
    "        num_names = len(opt_test_data[i])\n",
    "        x.append(x[i] + (x[i]/num_names)*profit_i)"
   ]
  },
  {
   "cell_type": "code",
   "execution_count": 42,
   "id": "8824f95a",
   "metadata": {},
   "outputs": [
    {
     "name": "stdout",
     "output_type": "stream",
     "text": [
      "Strategy Sharpe Ratio:  0.4277191444375892\n",
      "Maximun drawdown:  0.0969301815465693\n"
     ]
    },
    {
     "data": {
      "image/png": "[encoded data removed]",
      "text/plain": [
       "<Figure size 432x288 with 1 Axes>"
      ]
     },
     "metadata": {
      "needs_background": "light"
     },
     "output_type": "display_data"
    }
   ],
   "source": [
    "SPY = pd.read_pickle(r'/Users/jinnan2/Desktop/uchi course/FInM/lec10/hw3/SPY_cum_ret.pkl')\n",
    "SPY = SPY.loc['2004-09-01':'2018-09-30']\n",
    "SPY = SPY.resample('Q').ffill()\n",
    "SPY['spy_cum_ret'] = (SPY['spy_cum_ret'] - SPY['spy_cum_ret'][0] + 1)\n",
    "SPY['strategy'] = x\n",
    "\n",
    "SPY.plot();\n",
    "\n",
    "strategy_mean_ret = (SPY['strategy'] - 1).diff().mean()\n",
    "strategy_std = (SPY['strategy'] - 1).diff().std()\n",
    "strategy_sr = strategy_mean_ret/strategy_std\n",
    "print('Strategy Sharpe Ratio: ',strategy_sr)\n",
    "\n",
    "print('Maximun drawdown: ', max_drawdown(SPY['strategy']))"
   ]
  },
  {
   "cell_type": "code",
   "execution_count": 43,
   "id": "b76e342d",
   "metadata": {},
   "outputs": [],
   "source": [
    "x1 = [1]\n",
    "ret1 = []\n",
    "\n",
    "for i in range(len(start_dates)-1):\n",
    "        \n",
    "        classifier.fit(opt_training_data1[i],training_labels[i])\n",
    "\n",
    "        preds = classifier.predict(opt_test_data1[i])\n",
    "        profit_i = (preds*test_frames[i]['next_period_return']).sum()\n",
    "        ret1.append(profit_i)\n",
    "        num_names = len(opt_test_data1[i])\n",
    "        x1.append(x1[i] + (x1[i]/num_names)*profit_i)"
   ]
  },
  {
   "cell_type": "code",
   "execution_count": 44,
   "id": "003dacf7",
   "metadata": {},
   "outputs": [
    {
     "name": "stdout",
     "output_type": "stream",
     "text": [
      "Strategy Sharpe Ratio:  0.41907216569408073\n",
      "Maximun drawdown:  0.11228168687087692\n"
     ]
    },
    {
     "data": {
      "image/png": "[encoded data removed]",
      "text/plain": [
       "<Figure size 432x288 with 1 Axes>"
      ]
     },
     "metadata": {
      "needs_background": "light"
     },
     "output_type": "display_data"
    }
   ],
   "source": [
    "SPY = pd.read_pickle(r'/Users/jinnan2/Desktop/uchi course/FInM/lec10/hw3/SPY_cum_ret.pkl')\n",
    "SPY = SPY.loc['2004-09-01':'2018-09-30']\n",
    "SPY = SPY.resample('Q').ffill()\n",
    "SPY['spy_cum_ret'] = (SPY['spy_cum_ret'] - SPY['spy_cum_ret'][0] + 1)\n",
    "SPY['strategy'] = x1\n",
    "\n",
    "SPY.plot();\n",
    "\n",
    "strategy_mean_ret = (SPY['strategy'] - 1).diff().mean()\n",
    "strategy_std = (SPY['strategy'] - 1).diff().std()\n",
    "strategy_sr = strategy_mean_ret/strategy_std\n",
    "print('Strategy Sharpe Ratio: ',strategy_sr)\n",
    "\n",
    "print('Maximun drawdown: ', max_drawdown(SPY['strategy']))"
   ]
  },
  {
   "cell_type": "code",
   "execution_count": 45,
   "id": "e38a185d",
   "metadata": {},
   "outputs": [],
   "source": [
    "x2 = [1]\n",
    "ret2 = []\n",
    "\n",
    "for i in range(len(start_dates)-1):\n",
    "        \n",
    "        classifier.fit(opt_training_data2[i],training_labels[i])\n",
    "\n",
    "        preds = classifier.predict(opt_test_data2[i])\n",
    "        profit_i = (preds*test_frames[i]['next_period_return']).sum()\n",
    "        ret2.append(profit_i)\n",
    "        num_names = len(opt_test_data2[i])\n",
    "        x2.append(x2[i] + (x2[i]/num_names)*profit_i)"
   ]
  },
  {
   "cell_type": "code",
   "execution_count": 46,
   "id": "5c6f98b2",
   "metadata": {},
   "outputs": [
    {
     "name": "stdout",
     "output_type": "stream",
     "text": [
      "Strategy Sharpe Ratio:  0.3763714509647855\n",
      "Maximun drawdown:  0.11768538766931314\n"
     ]
    },
    {
     "data": {
      "image/png": "[encoded data removed]",
      "text/plain": [
       "<Figure size 432x288 with 1 Axes>"
      ]
     },
     "metadata": {
      "needs_background": "light"
     },
     "output_type": "display_data"
    }
   ],
   "source": [
    "SPY = pd.read_pickle(r'/Users/jinnan2/Desktop/uchi course/FInM/lec10/hw3/SPY_cum_ret.pkl')\n",
    "SPY = SPY.loc['2004-09-01':'2018-09-30']\n",
    "SPY = SPY.resample('Q').ffill()\n",
    "SPY['spy_cum_ret'] = (SPY['spy_cum_ret'] - SPY['spy_cum_ret'][0] + 1)\n",
    "SPY['strategy'] = x2\n",
    "\n",
    "SPY.plot();\n",
    "\n",
    "strategy_mean_ret = (SPY['strategy'] - 1).diff().mean()\n",
    "strategy_std = (SPY['strategy'] - 1).diff().std()\n",
    "strategy_sr = strategy_mean_ret/strategy_std\n",
    "print('Strategy Sharpe Ratio: ',strategy_sr)\n",
    "\n",
    "print('Maximun drawdown: ', max_drawdown(SPY['strategy']))"
   ]
  },
  {
   "cell_type": "markdown",
   "id": "659dd8a9",
   "metadata": {},
   "source": [
    "## Using optimal features and optimal hyperparameters (profit) to calculate max_drawdown"
   ]
  },
  {
   "cell_type": "code",
   "execution_count": 47,
   "id": "dd4b5621",
   "metadata": {},
   "outputs": [],
   "source": [
    "x = [1]\n",
    "ret = []\n",
    "\n",
    "for i in range(len(start_dates)-1):\n",
    "        \n",
    "        classifier1.fit(opt_training_data[i],training_labels[i])\n",
    "\n",
    "        preds = classifier1.predict(opt_test_data[i])\n",
    "        profit_i = (preds*test_frames[i]['next_period_return']).sum()\n",
    "        ret.append(profit_i)\n",
    "        num_names = len(opt_test_data[i])\n",
    "        x.append(x[i] + (x[i]/num_names)*profit_i)"
   ]
  },
  {
   "cell_type": "code",
   "execution_count": 48,
   "id": "9f5c796f",
   "metadata": {},
   "outputs": [
    {
     "name": "stdout",
     "output_type": "stream",
     "text": [
      "Strategy Sharpe Ratio:  0.4264825975313931\n",
      "Maximun drawdown:  0.09987313702341871\n"
     ]
    },
    {
     "data": {
      "image/png": "[encoded data removed]",
      "text/plain": [
       "<Figure size 432x288 with 1 Axes>"
      ]
     },
     "metadata": {
      "needs_background": "light"
     },
     "output_type": "display_data"
    }
   ],
   "source": [
    "SPY = pd.read_pickle(r'/Users/jinnan2/Desktop/uchi course/FInM/lec10/hw3/SPY_cum_ret.pkl')\n",
    "SPY = SPY.loc['2004-09-01':'2018-09-30']\n",
    "SPY = SPY.resample('Q').ffill()\n",
    "SPY['spy_cum_ret'] = (SPY['spy_cum_ret'] - SPY['spy_cum_ret'][0] + 1)\n",
    "SPY['strategy'] = x\n",
    "\n",
    "SPY.plot();\n",
    "\n",
    "strategy_mean_ret = (SPY['strategy'] - 1).diff().mean()\n",
    "strategy_std = (SPY['strategy'] - 1).diff().std()\n",
    "strategy_sr = strategy_mean_ret/strategy_std\n",
    "print('Strategy Sharpe Ratio: ',strategy_sr)\n",
    "\n",
    "print('Maximun drawdown: ', max_drawdown(SPY['strategy']))"
   ]
  },
  {
   "cell_type": "code",
   "execution_count": 49,
   "id": "1499e20d",
   "metadata": {},
   "outputs": [],
   "source": [
    "x1 = [1]\n",
    "ret1 = []\n",
    "\n",
    "for i in range(len(start_dates)-1):\n",
    "        \n",
    "        classifier1.fit(opt_training_data1[i],training_labels[i])\n",
    "\n",
    "        preds = classifier1.predict(opt_test_data1[i])\n",
    "        profit_i = (preds*test_frames[i]['next_period_return']).sum()\n",
    "        ret1.append(profit_i)\n",
    "        num_names = len(opt_test_data1[i])\n",
    "        x1.append(x1[i] + (x1[i]/num_names)*profit_i)"
   ]
  },
  {
   "cell_type": "code",
   "execution_count": 50,
   "id": "01e7e622",
   "metadata": {},
   "outputs": [
    {
     "name": "stdout",
     "output_type": "stream",
     "text": [
      "Strategy Sharpe Ratio:  0.4756336161557262\n",
      "Maximun drawdown:  0.08072273345687009\n"
     ]
    },
    {
     "data": {
      "image/png": "[encoded data removed]",
      "text/plain": [
       "<Figure size 432x288 with 1 Axes>"
      ]
     },
     "metadata": {
      "needs_background": "light"
     },
     "output_type": "display_data"
    }
   ],
   "source": [
    "SPY = pd.read_pickle(r'/Users/jinnan2/Desktop/uchi course/FInM/lec10/hw3/SPY_cum_ret.pkl')\n",
    "SPY = SPY.loc['2004-09-01':'2018-09-30']\n",
    "SPY = SPY.resample('Q').ffill()\n",
    "SPY['spy_cum_ret'] = (SPY['spy_cum_ret'] - SPY['spy_cum_ret'][0] + 1)\n",
    "SPY['strategy'] = x1\n",
    "\n",
    "SPY.plot();\n",
    "\n",
    "strategy_mean_ret = (SPY['strategy'] - 1).diff().mean()\n",
    "strategy_std = (SPY['strategy'] - 1).diff().std()\n",
    "strategy_sr = strategy_mean_ret/strategy_std\n",
    "print('Strategy Sharpe Ratio: ',strategy_sr)\n",
    "\n",
    "print('Maximun drawdown: ', max_drawdown(SPY['strategy']))"
   ]
  },
  {
   "cell_type": "code",
   "execution_count": 51,
   "id": "3a47c2bb",
   "metadata": {},
   "outputs": [],
   "source": [
    "x2 = [1]\n",
    "ret2 = []\n",
    "\n",
    "for i in range(len(start_dates)-1):\n",
    "        \n",
    "        classifier1.fit(opt_training_data2[i],training_labels[i])\n",
    "\n",
    "        preds = classifier1.predict(opt_test_data2[i])\n",
    "        profit_i = (preds*test_frames[i]['next_period_return']).sum()\n",
    "        ret2.append(profit_i)\n",
    "        num_names = len(opt_test_data2[i])\n",
    "        x2.append(x2[i] + (x2[i]/num_names)*profit_i)"
   ]
  },
  {
   "cell_type": "code",
   "execution_count": 52,
   "id": "a915ab9e",
   "metadata": {},
   "outputs": [
    {
     "name": "stdout",
     "output_type": "stream",
     "text": [
      "Strategy Sharpe Ratio:  0.37113587984768553\n",
      "Maximun drawdown:  0.13282853164978548\n"
     ]
    },
    {
     "data": {
      "image/png": "[encoded data removed]",
      "text/plain": [
       "<Figure size 432x288 with 1 Axes>"
      ]
     },
     "metadata": {
      "needs_background": "light"
     },
     "output_type": "display_data"
    }
   ],
   "source": [
    "SPY = pd.read_pickle(r'/Users/jinnan2/Desktop/uchi course/FInM/lec10/hw3/SPY_cum_ret.pkl')\n",
    "SPY = SPY.loc['2004-09-01':'2018-09-30']\n",
    "SPY = SPY.resample('Q').ffill()\n",
    "SPY['spy_cum_ret'] = (SPY['spy_cum_ret'] - SPY['spy_cum_ret'][0] + 1)\n",
    "SPY['strategy'] = x2\n",
    "\n",
    "SPY.plot();\n",
    "\n",
    "strategy_mean_ret = (SPY['strategy'] - 1).diff().mean()\n",
    "strategy_std = (SPY['strategy'] - 1).diff().std()\n",
    "strategy_sr = strategy_mean_ret/strategy_std\n",
    "print('Strategy Sharpe Ratio: ',strategy_sr)\n",
    "\n",
    "print('Maximun drawdown: ', max_drawdown(SPY['strategy']))"
   ]
  },
  {
   "cell_type": "markdown",
   "id": "21b84461",
   "metadata": {},
   "source": [
    "## Using optimal features and optimal hyperparameters (max_drawdown) to calculate max_drawdown"
   ]
  },
  {
   "cell_type": "code",
   "execution_count": 53,
   "id": "3a8935a7",
   "metadata": {},
   "outputs": [],
   "source": [
    "x = [1]\n",
    "ret = []\n",
    "\n",
    "for i in range(len(start_dates)-1):\n",
    "        \n",
    "        classifier2.fit(opt_training_data[i],training_labels[i])\n",
    "\n",
    "        preds = classifier2.predict(opt_test_data[i])\n",
    "        profit_i = (preds*test_frames[i]['next_period_return']).sum()\n",
    "        ret.append(profit_i)\n",
    "        num_names = len(opt_test_data[i])\n",
    "        x.append(x[i] + (x[i]/num_names)*profit_i)"
   ]
  },
  {
   "cell_type": "code",
   "execution_count": 54,
   "id": "9264c16b",
   "metadata": {},
   "outputs": [
    {
     "name": "stdout",
     "output_type": "stream",
     "text": [
      "Strategy Sharpe Ratio:  0.43146717623116354\n",
      "Maximun drawdown:  0.12109339333460456\n"
     ]
    },
    {
     "data": {
      "image/png": "[encoded data removed]",
      "text/plain": [
       "<Figure size 432x288 with 1 Axes>"
      ]
     },
     "metadata": {
      "needs_background": "light"
     },
     "output_type": "display_data"
    }
   ],
   "source": [
    "SPY = pd.read_pickle(r'/Users/jinnan2/Desktop/uchi course/FInM/lec10/hw3/SPY_cum_ret.pkl')\n",
    "SPY = SPY.loc['2004-09-01':'2018-09-30']\n",
    "SPY = SPY.resample('Q').ffill()\n",
    "SPY['spy_cum_ret'] = (SPY['spy_cum_ret'] - SPY['spy_cum_ret'][0] + 1)\n",
    "SPY['strategy'] = x\n",
    "\n",
    "SPY.plot();\n",
    "\n",
    "strategy_mean_ret = (SPY['strategy'] - 1).diff().mean()\n",
    "strategy_std = (SPY['strategy'] - 1).diff().std()\n",
    "strategy_sr = strategy_mean_ret/strategy_std\n",
    "print('Strategy Sharpe Ratio: ',strategy_sr)\n",
    "\n",
    "print('Maximun drawdown: ', max_drawdown(SPY['strategy']))"
   ]
  },
  {
   "cell_type": "code",
   "execution_count": 55,
   "id": "150d5c1e",
   "metadata": {},
   "outputs": [],
   "source": [
    "x1 = [1]\n",
    "ret1 = []\n",
    "\n",
    "for i in range(len(start_dates)-1):\n",
    "        \n",
    "        classifier2.fit(opt_training_data1[i],training_labels[i])\n",
    "\n",
    "        preds = classifier2.predict(opt_test_data1[i])\n",
    "        profit_i = (preds*test_frames[i]['next_period_return']).sum()\n",
    "        ret1.append(profit_i)\n",
    "        num_names = len(opt_test_data1[i])\n",
    "        x1.append(x1[i] + (x1[i]/num_names)*profit_i)"
   ]
  },
  {
   "cell_type": "code",
   "execution_count": 56,
   "id": "9b823390",
   "metadata": {},
   "outputs": [
    {
     "name": "stdout",
     "output_type": "stream",
     "text": [
      "Strategy Sharpe Ratio:  0.4395066498042709\n",
      "Maximun drawdown:  0.11651612123397204\n"
     ]
    },
    {
     "data": {
      "image/png": "[encoded data removed]",
      "text/plain": [
       "<Figure size 432x288 with 1 Axes>"
      ]
     },
     "metadata": {
      "needs_background": "light"
     },
     "output_type": "display_data"
    }
   ],
   "source": [
    "SPY = pd.read_pickle(r'/Users/jinnan2/Desktop/uchi course/FInM/lec10/hw3/SPY_cum_ret.pkl')\n",
    "SPY = SPY.loc['2004-09-01':'2018-09-30']\n",
    "SPY = SPY.resample('Q').ffill()\n",
    "SPY['spy_cum_ret'] = (SPY['spy_cum_ret'] - SPY['spy_cum_ret'][0] + 1)\n",
    "SPY['strategy'] = x1\n",
    "\n",
    "SPY.plot();\n",
    "\n",
    "strategy_mean_ret = (SPY['strategy'] - 1).diff().mean()\n",
    "strategy_std = (SPY['strategy'] - 1).diff().std()\n",
    "strategy_sr = strategy_mean_ret/strategy_std\n",
    "print('Strategy Sharpe Ratio: ',strategy_sr)\n",
    "\n",
    "print('Maximun drawdown: ', max_drawdown(SPY['strategy']))"
   ]
  },
  {
   "cell_type": "code",
   "execution_count": 57,
   "id": "bf529a72",
   "metadata": {},
   "outputs": [],
   "source": [
    "x2 = [1]\n",
    "ret2 = []\n",
    "\n",
    "for i in range(len(start_dates)-1):\n",
    "        \n",
    "        classifier2.fit(opt_training_data2[i],training_labels[i])\n",
    "\n",
    "        preds = classifier2.predict(opt_test_data2[i])\n",
    "        profit_i = (preds*test_frames[i]['next_period_return']).sum()\n",
    "        ret2.append(profit_i)\n",
    "        num_names = len(opt_test_data2[i])\n",
    "        x2.append(x2[i] + (x2[i]/num_names)*profit_i)"
   ]
  },
  {
   "cell_type": "code",
   "execution_count": 58,
   "id": "1bba62cc",
   "metadata": {},
   "outputs": [
    {
     "name": "stdout",
     "output_type": "stream",
     "text": [
      "Strategy Sharpe Ratio:  0.3816610015115955\n",
      "Maximun drawdown:  0.1290341490525857\n"
     ]
    },
    {
     "data": {
      "image/png": "[encoded data removed]",
      "text/plain": [
       "<Figure size 432x288 with 1 Axes>"
      ]
     },
     "metadata": {
      "needs_background": "light"
     },
     "output_type": "display_data"
    }
   ],
   "source": [
    "SPY = pd.read_pickle(r'/Users/jinnan2/Desktop/uchi course/FInM/lec10/hw3/SPY_cum_ret.pkl')\n",
    "SPY = SPY.loc['2004-09-01':'2018-09-30']\n",
    "SPY = SPY.resample('Q').ffill()\n",
    "SPY['spy_cum_ret'] = (SPY['spy_cum_ret'] - SPY['spy_cum_ret'][0] + 1)\n",
    "SPY['strategy'] = x2\n",
    "\n",
    "SPY.plot();\n",
    "\n",
    "strategy_mean_ret = (SPY['strategy'] - 1).diff().mean()\n",
    "strategy_std = (SPY['strategy'] - 1).diff().std()\n",
    "strategy_sr = strategy_mean_ret/strategy_std\n",
    "print('Strategy Sharpe Ratio: ',strategy_sr)\n",
    "\n",
    "print('Maximun drawdown: ', max_drawdown(SPY['strategy']))"
   ]
  },
  {
   "cell_type": "code",
   "execution_count": null,
   "id": "9f095f83",
   "metadata": {},
   "outputs": [],
   "source": []
  },
  {
   "cell_type": "markdown",
   "id": "64edc09d",
   "metadata": {},
   "source": [
    "# Label three"
   ]
  },
  {
   "cell_type": "code",
   "execution_count": 59,
   "id": "3c0bf9c6",
   "metadata": {},
   "outputs": [],
   "source": [
    "def f(x):\n",
    "    if x > 0.05:\n",
    "        return 2\n",
    "    elif x > 0.01 and x < 0.05:\n",
    "        return 1\n",
    "    elif x > -0.01 and x < 0.01:\n",
    "        return 0\n",
    "    elif x > -0.05 and x < -0.01:\n",
    "        return -1\n",
    "    else: \n",
    "        return -2"
   ]
  },
  {
   "cell_type": "code",
   "execution_count": 60,
   "id": "fd36a264",
   "metadata": {},
   "outputs": [],
   "source": [
    "data['rel_performance'] = data['pred_rel_return'].apply(f)\n",
    "data.reset_index(inplace=True,)\n",
    "data.set_index('date',inplace=True)"
   ]
  },
  {
   "cell_type": "code",
   "execution_count": 61,
   "id": "444c8311",
   "metadata": {},
   "outputs": [
    {
     "data": {
      "text/html": [
       "<div>\n",
       "<style scoped>\n",
       "    .dataframe tbody tr th:only-of-type {\n",
       "        vertical-align: middle;\n",
       "    }\n",
       "\n",
       "    .dataframe tbody tr th {\n",
       "        vertical-align: top;\n",
       "    }\n",
       "\n",
       "    .dataframe thead th {\n",
       "        text-align: right;\n",
       "    }\n",
       "</style>\n",
       "<table border=\"1\" class=\"dataframe\">\n",
       "  <thead>\n",
       "    <tr style=\"text-align: right;\">\n",
       "      <th></th>\n",
       "      <th>ticker</th>\n",
       "      <th>actq</th>\n",
       "      <th>apq</th>\n",
       "      <th>atq</th>\n",
       "      <th>ceqq</th>\n",
       "      <th>cheq</th>\n",
       "      <th>cogsq</th>\n",
       "      <th>csh12q</th>\n",
       "      <th>cshfdq</th>\n",
       "      <th>cshiq</th>\n",
       "      <th>...</th>\n",
       "      <th>sector_code_817.0</th>\n",
       "      <th>sector_code_822.0</th>\n",
       "      <th>sector_code_823.0</th>\n",
       "      <th>sector_code_825.0</th>\n",
       "      <th>sector_code_830.0</th>\n",
       "      <th>sector_code_835.0</th>\n",
       "      <th>sector_code_840.0</th>\n",
       "      <th>sector_code_845.0</th>\n",
       "      <th>sector_code_850.0</th>\n",
       "      <th>rel_performance</th>\n",
       "    </tr>\n",
       "    <tr>\n",
       "      <th>date</th>\n",
       "      <th></th>\n",
       "      <th></th>\n",
       "      <th></th>\n",
       "      <th></th>\n",
       "      <th></th>\n",
       "      <th></th>\n",
       "      <th></th>\n",
       "      <th></th>\n",
       "      <th></th>\n",
       "      <th></th>\n",
       "      <th></th>\n",
       "      <th></th>\n",
       "      <th></th>\n",
       "      <th></th>\n",
       "      <th></th>\n",
       "      <th></th>\n",
       "      <th></th>\n",
       "      <th></th>\n",
       "      <th></th>\n",
       "      <th></th>\n",
       "      <th></th>\n",
       "    </tr>\n",
       "  </thead>\n",
       "  <tbody>\n",
       "    <tr>\n",
       "      <th>2000-02-09</th>\n",
       "      <td>CSCO</td>\n",
       "      <td>7722.000</td>\n",
       "      <td>482.000</td>\n",
       "      <td>21391.000</td>\n",
       "      <td>16523.000</td>\n",
       "      <td>3968.000</td>\n",
       "      <td>1422.000</td>\n",
       "      <td>3374.1250</td>\n",
       "      <td>3648.000</td>\n",
       "      <td>3445.000</td>\n",
       "      <td>...</td>\n",
       "      <td>0</td>\n",
       "      <td>0</td>\n",
       "      <td>0</td>\n",
       "      <td>0</td>\n",
       "      <td>0</td>\n",
       "      <td>0</td>\n",
       "      <td>0</td>\n",
       "      <td>0</td>\n",
       "      <td>0</td>\n",
       "      <td>-1</td>\n",
       "    </tr>\n",
       "    <tr>\n",
       "      <th>2000-02-09</th>\n",
       "      <td>ROP</td>\n",
       "      <td>172.725</td>\n",
       "      <td>19.662</td>\n",
       "      <td>474.649</td>\n",
       "      <td>239.432</td>\n",
       "      <td>3.198</td>\n",
       "      <td>47.634</td>\n",
       "      <td>30.2688</td>\n",
       "      <td>31.217</td>\n",
       "      <td>0.000</td>\n",
       "      <td>...</td>\n",
       "      <td>0</td>\n",
       "      <td>0</td>\n",
       "      <td>0</td>\n",
       "      <td>0</td>\n",
       "      <td>0</td>\n",
       "      <td>0</td>\n",
       "      <td>0</td>\n",
       "      <td>0</td>\n",
       "      <td>0</td>\n",
       "      <td>2</td>\n",
       "    </tr>\n",
       "    <tr>\n",
       "      <th>2000-02-10</th>\n",
       "      <td>CMOS</td>\n",
       "      <td>240.767</td>\n",
       "      <td>27.044</td>\n",
       "      <td>376.536</td>\n",
       "      <td>209.411</td>\n",
       "      <td>68.625</td>\n",
       "      <td>43.023</td>\n",
       "      <td>21.4360</td>\n",
       "      <td>23.753</td>\n",
       "      <td>0.000</td>\n",
       "      <td>...</td>\n",
       "      <td>0</td>\n",
       "      <td>0</td>\n",
       "      <td>0</td>\n",
       "      <td>0</td>\n",
       "      <td>0</td>\n",
       "      <td>0</td>\n",
       "      <td>0</td>\n",
       "      <td>0</td>\n",
       "      <td>0</td>\n",
       "      <td>2</td>\n",
       "    </tr>\n",
       "    <tr>\n",
       "      <th>2000-02-11</th>\n",
       "      <td>DELL</td>\n",
       "      <td>7681.000</td>\n",
       "      <td>3538.000</td>\n",
       "      <td>11471.000</td>\n",
       "      <td>5308.000</td>\n",
       "      <td>4132.000</td>\n",
       "      <td>5452.000</td>\n",
       "      <td>2536.0000</td>\n",
       "      <td>2731.000</td>\n",
       "      <td>2575.000</td>\n",
       "      <td>...</td>\n",
       "      <td>0</td>\n",
       "      <td>0</td>\n",
       "      <td>0</td>\n",
       "      <td>0</td>\n",
       "      <td>0</td>\n",
       "      <td>0</td>\n",
       "      <td>0</td>\n",
       "      <td>0</td>\n",
       "      <td>0</td>\n",
       "      <td>2</td>\n",
       "    </tr>\n",
       "    <tr>\n",
       "      <th>2000-02-15</th>\n",
       "      <td>VAL</td>\n",
       "      <td>507.082</td>\n",
       "      <td>139.497</td>\n",
       "      <td>1094.080</td>\n",
       "      <td>402.382</td>\n",
       "      <td>27.605</td>\n",
       "      <td>221.366</td>\n",
       "      <td>43.1858</td>\n",
       "      <td>43.687</td>\n",
       "      <td>53.321</td>\n",
       "      <td>...</td>\n",
       "      <td>0</td>\n",
       "      <td>0</td>\n",
       "      <td>0</td>\n",
       "      <td>0</td>\n",
       "      <td>0</td>\n",
       "      <td>0</td>\n",
       "      <td>0</td>\n",
       "      <td>0</td>\n",
       "      <td>0</td>\n",
       "      <td>1</td>\n",
       "    </tr>\n",
       "  </tbody>\n",
       "</table>\n",
       "<p>5 rows × 733 columns</p>\n",
       "</div>"
      ],
      "text/plain": [
       "           ticker      actq       apq        atq       ceqq      cheq  \\\n",
       "date                                                                    \n",
       "2000-02-09   CSCO  7722.000   482.000  21391.000  16523.000  3968.000   \n",
       "2000-02-09    ROP   172.725    19.662    474.649    239.432     3.198   \n",
       "2000-02-10   CMOS   240.767    27.044    376.536    209.411    68.625   \n",
       "2000-02-11   DELL  7681.000  3538.000  11471.000   5308.000  4132.000   \n",
       "2000-02-15    VAL   507.082   139.497   1094.080    402.382    27.605   \n",
       "\n",
       "               cogsq     csh12q    cshfdq     cshiq  ...  sector_code_817.0  \\\n",
       "date                                                 ...                      \n",
       "2000-02-09  1422.000  3374.1250  3648.000  3445.000  ...                  0   \n",
       "2000-02-09    47.634    30.2688    31.217     0.000  ...                  0   \n",
       "2000-02-10    43.023    21.4360    23.753     0.000  ...                  0   \n",
       "2000-02-11  5452.000  2536.0000  2731.000  2575.000  ...                  0   \n",
       "2000-02-15   221.366    43.1858    43.687    53.321  ...                  0   \n",
       "\n",
       "            sector_code_822.0  sector_code_823.0  sector_code_825.0  \\\n",
       "date                                                                  \n",
       "2000-02-09                  0                  0                  0   \n",
       "2000-02-09                  0                  0                  0   \n",
       "2000-02-10                  0                  0                  0   \n",
       "2000-02-11                  0                  0                  0   \n",
       "2000-02-15                  0                  0                  0   \n",
       "\n",
       "            sector_code_830.0  sector_code_835.0  sector_code_840.0  \\\n",
       "date                                                                  \n",
       "2000-02-09                  0                  0                  0   \n",
       "2000-02-09                  0                  0                  0   \n",
       "2000-02-10                  0                  0                  0   \n",
       "2000-02-11                  0                  0                  0   \n",
       "2000-02-15                  0                  0                  0   \n",
       "\n",
       "            sector_code_845.0  sector_code_850.0  rel_performance  \n",
       "date                                                               \n",
       "2000-02-09                  0                  0               -1  \n",
       "2000-02-09                  0                  0                2  \n",
       "2000-02-10                  0                  0                2  \n",
       "2000-02-11                  0                  0                2  \n",
       "2000-02-15                  0                  0                1  \n",
       "\n",
       "[5 rows x 733 columns]"
      ]
     },
     "execution_count": 61,
     "metadata": {},
     "output_type": "execute_result"
    }
   ],
   "source": [
    "data.head()"
   ]
  },
  {
   "cell_type": "code",
   "execution_count": 62,
   "id": "6ce9861b",
   "metadata": {},
   "outputs": [],
   "source": [
    "df_1 = data.loc['2001-01-01':'2004-01-01']\n",
    "df_valid = data.loc['2004-04-01':'2004-07-01']\n",
    "df_test = data.loc['2004-10-01':'2005-01-01']\n",
    "\n",
    "df_valid.reset_index(inplace=True,)\n",
    "df_valid.set_index(['date'],inplace=True)\n",
    "df_valid.index\n",
    "\n",
    "train_1 = df_1.reset_index().drop(['ticker','date',\n",
    "                                   'next_period_return',\n",
    "                                   'spy_next_period_return',\n",
    "                                   'rel_performance','pred_rel_return',\n",
    "                                  'return', 'cum_ret', 'spy_cum_ret'],axis=1)\n",
    "\n",
    "valid = df_valid.reset_index().drop(['ticker','date',\n",
    "                                    'next_period_return',\n",
    "                                   'spy_next_period_return',\n",
    "                                   'rel_performance','pred_rel_return',\n",
    "                                  'return', 'cum_ret', 'spy_cum_ret'],axis=1)\n",
    "test = df_test.reset_index().drop(['ticker','date',\n",
    "                                   'next_period_return',\n",
    "                                   'spy_next_period_return',\n",
    "                                   'rel_performance','pred_rel_return',\n",
    "                                  'return', 'cum_ret', 'spy_cum_ret'],axis=1)\n",
    "\n",
    "train_1_stock_returns = df_1['next_period_return']\n",
    "valid_stock_returns = df_valid['next_period_return']\n",
    "test_stock_returns = df_test['next_period_return']\n",
    "\n",
    "y_1 = df_1['rel_performance']\n",
    "y_valid = df_valid['rel_performance']\n",
    "y_test = df_test['rel_performance']\n",
    "\n",
    "y_1 = y_1.values\n",
    "y_valid = y_valid.values\n",
    "y_test = y_test.values"
   ]
  },
  {
   "cell_type": "code",
   "execution_count": 63,
   "id": "99a960d1",
   "metadata": {},
   "outputs": [],
   "source": [
    "start_dates = [pd.to_datetime('2001-01-01') + pd.DateOffset(months = 3*i) for i in range(57)]\n",
    "end_dates = [d + pd.DateOffset(months = 36) for d in start_dates]\n",
    "\n",
    "training_frames = [data.loc[d:d+pd.DateOffset(months = 36)] for d in start_dates]\n",
    "valid_frames = [data.loc[d+pd.DateOffset(months = 3):d+pd.DateOffset(months = 6)] for d in end_dates]\n",
    "test_frames = [data.loc[d+pd.DateOffset(months = 9):d+pd.DateOffset(months = 12)] for d in end_dates]\n",
    "\n",
    "training_data = [d.reset_index().drop\n",
    "                                 (['ticker','date',\n",
    "                                   'next_period_return',\n",
    "                                   'spy_next_period_return',\n",
    "                                   'rel_performance','pred_rel_return',\n",
    "                                  'return', 'cum_ret', 'spy_cum_ret'],axis=1) for d in training_frames]\n",
    "\n",
    "valid_data = [d.reset_index().drop\n",
    "                                 (['ticker','date',\n",
    "                                   'next_period_return',\n",
    "                                   'spy_next_period_return',\n",
    "                                   'rel_performance','pred_rel_return',\n",
    "                                  'return', 'cum_ret', 'spy_cum_ret'],axis=1) for d in valid_frames]\n",
    "\n",
    "test_data = [d.reset_index().drop(['ticker','date',\n",
    "                                   'next_period_return',\n",
    "                                   'spy_next_period_return',\n",
    "                                   'rel_performance','pred_rel_return',\n",
    "                                  'return', 'cum_ret', 'spy_cum_ret'],axis=1) for d in test_frames]\n",
    "\n",
    "training_labels = [d['rel_performance'].values for d in training_frames]\n",
    "valid_labels = [d['rel_performance'].values for d in valid_frames] "
   ]
  },
  {
   "cell_type": "code",
   "execution_count": 64,
   "id": "2fa27217",
   "metadata": {},
   "outputs": [],
   "source": [
    "for i in range(len(start_dates)-1):\n",
    "    float_vars = [x for x in training_data[i].columns if data[x].dtype == 'float64']\n",
    "\n",
    "    scaler = StandardScaler()\n",
    "    training_data[i] = training_data[i].copy()\n",
    "    valid_data[i] = valid_data[i].copy()\n",
    "    test_data[i] = test_data[i].copy()\n",
    "    training_data[i][float_vars] = scaler.fit_transform(training_data[i][float_vars])\n",
    "    valid_data[i][float_vars] = scaler.transform(valid_data[i][float_vars])\n",
    "    test_data[i][float_vars] = scaler.transform(test_data[i][float_vars])\n",
    "    \n",
    "scalers = [StandardScaler() for i in range(len(start_dates)-1)]\n",
    "           \n",
    "opt_training_data2 = [pd.DataFrame(scalers[i].fit_transform(training_frames[i][shap_features[i]].values),\n",
    "                                   columns=shap_features[i]) for i in range(len(start_dates)-1)]\n",
    "opt_valid_data2 = [pd.DataFrame(scalers[i].fit_transform(training_frames[i][shap_features[i]].values),\n",
    "                                columns=shap_features[i]) for i in range(len(start_dates)-1)]\n",
    "opt_test_data2 = [pd.DataFrame(scalers[i].transform(test_frames[i][shap_features[i]].values),\n",
    "                               columns=shap_features[i]) for i in range(len(start_dates)-1)]\n",
    "\n",
    "opt_training_data1 = [pd.DataFrame(scalers[i].fit_transform(training_frames[i][shap_features1[i]].values),\n",
    "                                   columns=shap_features1[i]) for i in range(len(start_dates)-1)]\n",
    "opt_valid_data1 = [pd.DataFrame(scalers[i].fit_transform(training_frames[i][shap_features1[i]].values),\n",
    "                                columns=shap_features1[i]) for i in range(len(start_dates)-1)]\n",
    "opt_test_data1 = [pd.DataFrame(scalers[i].transform(test_frames[i][shap_features1[i]].values),\n",
    "                               columns=shap_features1[i]) for i in range(len(start_dates)-1)]\n",
    "\n",
    "opt_training_data = [pd.DataFrame(scalers[i].fit_transform(training_frames[i][shap_features2[i]].values),\n",
    "                                  columns=shap_features2[i]) for i in range(len(start_dates)-1)]\n",
    "opt_valid_data = [pd.DataFrame(scalers[i].fit_transform(training_frames[i][shap_features2[i]].values),\n",
    "                               columns=shap_features2[i]) for i in range(len(start_dates)-1)]\n",
    "opt_test_data = [pd.DataFrame(scalers[i].transform(test_frames[i][shap_features2[i]].values),\n",
    "                              columns=shap_features2[i]) for i in range(len(start_dates)-1)]"
   ]
  },
  {
   "cell_type": "markdown",
   "id": "1bd3a1e7",
   "metadata": {},
   "source": [
    "## Using optimal features and optimal hyperparameters (accuracy) to calculate max_drawdown"
   ]
  },
  {
   "cell_type": "code",
   "execution_count": 65,
   "id": "01c225b6",
   "metadata": {},
   "outputs": [],
   "source": [
    "x = [1]\n",
    "ret = []\n",
    "\n",
    "for i in range(len(start_dates)-1):\n",
    "        \n",
    "        classifier.fit(opt_training_data[i],training_labels[i])\n",
    "\n",
    "        preds = classifier.predict(opt_test_data[i])\n",
    "        profit_i = (preds*test_frames[i]['next_period_return']).sum()\n",
    "        ret.append(profit_i)\n",
    "        num_names = len(opt_test_data[i])\n",
    "        x.append(x[i] + (x[i]/num_names)*profit_i)"
   ]
  },
  {
   "cell_type": "code",
   "execution_count": 66,
   "id": "865fba04",
   "metadata": {},
   "outputs": [
    {
     "name": "stdout",
     "output_type": "stream",
     "text": [
      "Strategy Sharpe Ratio:  0.3800910707489083\n",
      "Maximun drawdown:  1.255723666295912\n"
     ]
    },
    {
     "data": {
      "image/png": "[encoded data removed]",
      "text/plain": [
       "<Figure size 432x288 with 1 Axes>"
      ]
     },
     "metadata": {
      "needs_background": "light"
     },
     "output_type": "display_data"
    }
   ],
   "source": [
    "SPY = pd.read_pickle(r'/Users/jinnan2/Desktop/uchi course/FInM/lec10/hw3/SPY_cum_ret.pkl')\n",
    "SPY = SPY.loc['2004-09-01':'2018-09-30']\n",
    "SPY = SPY.resample('Q').ffill()\n",
    "SPY['spy_cum_ret'] = (SPY['spy_cum_ret'] - SPY['spy_cum_ret'][0] + 1)\n",
    "SPY['strategy'] = x\n",
    "\n",
    "SPY.plot();\n",
    "\n",
    "strategy_mean_ret = (SPY['strategy'] - 1).diff().mean()\n",
    "strategy_std = (SPY['strategy'] - 1).diff().std()\n",
    "strategy_sr = strategy_mean_ret/strategy_std\n",
    "print('Strategy Sharpe Ratio: ',strategy_sr)\n",
    "\n",
    "print('Maximun drawdown: ', max_drawdown(SPY['strategy']))"
   ]
  },
  {
   "cell_type": "code",
   "execution_count": 67,
   "id": "43990178",
   "metadata": {},
   "outputs": [],
   "source": [
    "x1 = [1]\n",
    "ret1 = []\n",
    "\n",
    "for i in range(len(start_dates)-1):\n",
    "        \n",
    "        classifier.fit(opt_training_data1[i],training_labels[i])\n",
    "\n",
    "        preds = classifier.predict(opt_test_data1[i])\n",
    "        profit_i = (preds*test_frames[i]['next_period_return']).sum()\n",
    "        ret1.append(profit_i)\n",
    "        num_names = len(opt_test_data1[i])\n",
    "        x1.append(x1[i] + (x1[i]/num_names)*profit_i)"
   ]
  },
  {
   "cell_type": "code",
   "execution_count": 68,
   "id": "2d2a1bd6",
   "metadata": {},
   "outputs": [
    {
     "name": "stdout",
     "output_type": "stream",
     "text": [
      "Strategy Sharpe Ratio:  0.521222799442494\n",
      "Maximun drawdown:  0.8426421151947654\n"
     ]
    },
    {
     "data": {
      "image/png": "[encoded data removed]",
      "text/plain": [
       "<Figure size 432x288 with 1 Axes>"
      ]
     },
     "metadata": {
      "needs_background": "light"
     },
     "output_type": "display_data"
    }
   ],
   "source": [
    "SPY = pd.read_pickle(r'/Users/jinnan2/Desktop/uchi course/FInM/lec10/hw3/SPY_cum_ret.pkl')\n",
    "SPY = SPY.loc['2004-09-01':'2018-09-30']\n",
    "SPY = SPY.resample('Q').ffill()\n",
    "SPY['spy_cum_ret'] = (SPY['spy_cum_ret'] - SPY['spy_cum_ret'][0] + 1)\n",
    "SPY['strategy'] = x1\n",
    "\n",
    "SPY.plot();\n",
    "\n",
    "strategy_mean_ret = (SPY['strategy'] - 1).diff().mean()\n",
    "strategy_std = (SPY['strategy'] - 1).diff().std()\n",
    "strategy_sr = strategy_mean_ret/strategy_std\n",
    "print('Strategy Sharpe Ratio: ',strategy_sr)\n",
    "\n",
    "print('Maximun drawdown: ', max_drawdown(SPY['strategy']))"
   ]
  },
  {
   "cell_type": "code",
   "execution_count": 69,
   "id": "6ab31259",
   "metadata": {},
   "outputs": [],
   "source": [
    "x2 = [1]\n",
    "ret2 = []\n",
    "\n",
    "for i in range(len(start_dates)-1):\n",
    "        \n",
    "        classifier.fit(opt_training_data2[i],training_labels[i])\n",
    "\n",
    "        preds = classifier.predict(opt_test_data2[i])\n",
    "        profit_i = (preds*test_frames[i]['next_period_return']).sum()\n",
    "        ret2.append(profit_i)\n",
    "        num_names = len(opt_test_data2[i])\n",
    "        x2.append(x2[i] + (x2[i]/num_names)*profit_i)"
   ]
  },
  {
   "cell_type": "code",
   "execution_count": 70,
   "id": "2f53786a",
   "metadata": {},
   "outputs": [
    {
     "name": "stdout",
     "output_type": "stream",
     "text": [
      "Strategy Sharpe Ratio:  0.44501562390039634\n",
      "Maximun drawdown:  0.9927420407609904\n"
     ]
    },
    {
     "data": {
      "image/png": "[encoded data removed]",
      "text/plain": [
       "<Figure size 432x288 with 1 Axes>"
      ]
     },
     "metadata": {
      "needs_background": "light"
     },
     "output_type": "display_data"
    }
   ],
   "source": [
    "SPY = pd.read_pickle(r'/Users/jinnan2/Desktop/uchi course/FInM/lec10/hw3/SPY_cum_ret.pkl')\n",
    "SPY = SPY.loc['2004-09-01':'2018-09-30']\n",
    "SPY = SPY.resample('Q').ffill()\n",
    "SPY['spy_cum_ret'] = (SPY['spy_cum_ret'] - SPY['spy_cum_ret'][0] + 1)\n",
    "SPY['strategy'] = x2\n",
    "\n",
    "SPY.plot();\n",
    "\n",
    "strategy_mean_ret = (SPY['strategy'] - 1).diff().mean()\n",
    "strategy_std = (SPY['strategy'] - 1).diff().std()\n",
    "strategy_sr = strategy_mean_ret/strategy_std\n",
    "print('Strategy Sharpe Ratio: ',strategy_sr)\n",
    "\n",
    "print('Maximun drawdown: ', max_drawdown(SPY['strategy']))"
   ]
  },
  {
   "cell_type": "markdown",
   "id": "69df61f6",
   "metadata": {},
   "source": [
    "## Using optimal features and optimal hyperparameters (profit) to calculate max_drawdown"
   ]
  },
  {
   "cell_type": "code",
   "execution_count": 71,
   "id": "4e9704e3",
   "metadata": {},
   "outputs": [],
   "source": [
    "x = [1]\n",
    "ret = []\n",
    "\n",
    "for i in range(len(start_dates)-1):\n",
    "        \n",
    "        classifier1.fit(opt_training_data[i],training_labels[i])\n",
    "\n",
    "        preds = classifier1.predict(opt_test_data[i])\n",
    "        profit_i = (preds*test_frames[i]['next_period_return']).sum()\n",
    "        ret.append(profit_i)\n",
    "        num_names = len(opt_test_data[i])\n",
    "        x.append(x[i] + (x[i]/num_names)*profit_i)"
   ]
  },
  {
   "cell_type": "code",
   "execution_count": 72,
   "id": "20fe85c9",
   "metadata": {},
   "outputs": [
    {
     "name": "stdout",
     "output_type": "stream",
     "text": [
      "Strategy Sharpe Ratio:  0.2977329384227532\n",
      "Maximun drawdown:  1.2588266363410843\n"
     ]
    },
    {
     "data": {
      "image/png": "[encoded data removed]",
      "text/plain": [
       "<Figure size 432x288 with 1 Axes>"
      ]
     },
     "metadata": {
      "needs_background": "light"
     },
     "output_type": "display_data"
    }
   ],
   "source": [
    "SPY = pd.read_pickle(r'/Users/jinnan2/Desktop/uchi course/FInM/lec10/hw3/SPY_cum_ret.pkl')\n",
    "SPY = SPY.loc['2004-09-01':'2018-09-30']\n",
    "SPY = SPY.resample('Q').ffill()\n",
    "SPY['spy_cum_ret'] = (SPY['spy_cum_ret'] - SPY['spy_cum_ret'][0] + 1)\n",
    "SPY['strategy'] = x\n",
    "\n",
    "SPY.plot();\n",
    "\n",
    "strategy_mean_ret = (SPY['strategy'] - 1).diff().mean()\n",
    "strategy_std = (SPY['strategy'] - 1).diff().std()\n",
    "strategy_sr = strategy_mean_ret/strategy_std\n",
    "print('Strategy Sharpe Ratio: ',strategy_sr)\n",
    "\n",
    "print('Maximun drawdown: ', max_drawdown(SPY['strategy']))"
   ]
  },
  {
   "cell_type": "code",
   "execution_count": 73,
   "id": "e0099203",
   "metadata": {},
   "outputs": [],
   "source": [
    "x1 = [1]\n",
    "ret1 = []\n",
    "\n",
    "for i in range(len(start_dates)-1):\n",
    "        \n",
    "        classifier1.fit(opt_training_data1[i],training_labels[i])\n",
    "\n",
    "        preds = classifier1.predict(opt_test_data1[i])\n",
    "        profit_i = (preds*test_frames[i]['next_period_return']).sum()\n",
    "        ret1.append(profit_i)\n",
    "        num_names = len(opt_test_data1[i])\n",
    "        x1.append(x1[i] + (x1[i]/num_names)*profit_i)"
   ]
  },
  {
   "cell_type": "code",
   "execution_count": 74,
   "id": "0406b12b",
   "metadata": {},
   "outputs": [
    {
     "name": "stdout",
     "output_type": "stream",
     "text": [
      "Strategy Sharpe Ratio:  0.5120642872936364\n",
      "Maximun drawdown:  0.6063507495164087\n"
     ]
    },
    {
     "data": {
      "image/png": "[encoded data removed]",
      "text/plain": [
       "<Figure size 432x288 with 1 Axes>"
      ]
     },
     "metadata": {
      "needs_background": "light"
     },
     "output_type": "display_data"
    }
   ],
   "source": [
    "SPY = pd.read_pickle(r'/Users/jinnan2/Desktop/uchi course/FInM/lec10/hw3/SPY_cum_ret.pkl')\n",
    "SPY = SPY.loc['2004-09-01':'2018-09-30']\n",
    "SPY = SPY.resample('Q').ffill()\n",
    "SPY['spy_cum_ret'] = (SPY['spy_cum_ret'] - SPY['spy_cum_ret'][0] + 1)\n",
    "SPY['strategy'] = x1\n",
    "\n",
    "SPY.plot();\n",
    "\n",
    "strategy_mean_ret = (SPY['strategy'] - 1).diff().mean()\n",
    "strategy_std = (SPY['strategy'] - 1).diff().std()\n",
    "strategy_sr = strategy_mean_ret/strategy_std\n",
    "print('Strategy Sharpe Ratio: ',strategy_sr)\n",
    "\n",
    "print('Maximun drawdown: ', max_drawdown(SPY['strategy']))"
   ]
  },
  {
   "cell_type": "code",
   "execution_count": 75,
   "id": "9c98c44f",
   "metadata": {},
   "outputs": [],
   "source": [
    "x2 = [1]\n",
    "ret2 = []\n",
    "\n",
    "for i in range(len(start_dates)-1):\n",
    "        \n",
    "        classifier1.fit(opt_training_data2[i],training_labels[i])\n",
    "\n",
    "        preds = classifier1.predict(opt_test_data2[i])\n",
    "        profit_i = (preds*test_frames[i]['next_period_return']).sum()\n",
    "        ret2.append(profit_i)\n",
    "        num_names = len(opt_test_data2[i])\n",
    "        x2.append(x2[i] + (x2[i]/num_names)*profit_i)"
   ]
  },
  {
   "cell_type": "code",
   "execution_count": 76,
   "id": "f98e8912",
   "metadata": {},
   "outputs": [
    {
     "name": "stdout",
     "output_type": "stream",
     "text": [
      "Strategy Sharpe Ratio:  0.4118028021175335\n",
      "Maximun drawdown:  0.9118642020032912\n"
     ]
    },
    {
     "data": {
      "image/png": "[encoded data removed]",
      "text/plain": [
       "<Figure size 432x288 with 1 Axes>"
      ]
     },
     "metadata": {
      "needs_background": "light"
     },
     "output_type": "display_data"
    }
   ],
   "source": [
    "SPY = pd.read_pickle(r'/Users/jinnan2/Desktop/uchi course/FInM/lec10/hw3/SPY_cum_ret.pkl')\n",
    "SPY = SPY.loc['2004-09-01':'2018-09-30']\n",
    "SPY = SPY.resample('Q').ffill()\n",
    "SPY['spy_cum_ret'] = (SPY['spy_cum_ret'] - SPY['spy_cum_ret'][0] + 1)\n",
    "SPY['strategy'] = x2\n",
    "\n",
    "SPY.plot();\n",
    "\n",
    "strategy_mean_ret = (SPY['strategy'] - 1).diff().mean()\n",
    "strategy_std = (SPY['strategy'] - 1).diff().std()\n",
    "strategy_sr = strategy_mean_ret/strategy_std\n",
    "print('Strategy Sharpe Ratio: ',strategy_sr)\n",
    "\n",
    "print('Maximun drawdown: ', max_drawdown(SPY['strategy']))"
   ]
  },
  {
   "cell_type": "markdown",
   "id": "9ac4393a",
   "metadata": {},
   "source": [
    "## Using optimal features and optimal hyperparameters (max_drawdown) to calculate max_drawdown"
   ]
  },
  {
   "cell_type": "code",
   "execution_count": 77,
   "id": "c8f1c176",
   "metadata": {},
   "outputs": [],
   "source": [
    "x = [1]\n",
    "ret = []\n",
    "\n",
    "for i in range(len(start_dates)-1):\n",
    "        \n",
    "        classifier2.fit(opt_training_data[i],training_labels[i])\n",
    "\n",
    "        preds = classifier2.predict(opt_test_data[i])\n",
    "        profit_i = (preds*test_frames[i]['next_period_return']).sum()\n",
    "        ret.append(profit_i)\n",
    "        num_names = len(opt_test_data[i])\n",
    "        x.append(x[i] + (x[i]/num_names)*profit_i)"
   ]
  },
  {
   "cell_type": "code",
   "execution_count": 78,
   "id": "a20c97f5",
   "metadata": {},
   "outputs": [
    {
     "name": "stdout",
     "output_type": "stream",
     "text": [
      "Strategy Sharpe Ratio:  0.3611810141509789\n",
      "Maximun drawdown:  0.8738852878471617\n"
     ]
    },
    {
     "data": {
      "image/png": "[encoded data removed]",
      "text/plain": [
       "<Figure size 432x288 with 1 Axes>"
      ]
     },
     "metadata": {
      "needs_background": "light"
     },
     "output_type": "display_data"
    }
   ],
   "source": [
    "SPY = pd.read_pickle(r'/Users/jinnan2/Desktop/uchi course/FInM/lec10/hw3/SPY_cum_ret.pkl')\n",
    "SPY = SPY.loc['2004-09-01':'2018-09-30']\n",
    "SPY = SPY.resample('Q').ffill()\n",
    "SPY['spy_cum_ret'] = (SPY['spy_cum_ret'] - SPY['spy_cum_ret'][0] + 1)\n",
    "SPY['strategy'] = x\n",
    "\n",
    "SPY.plot();\n",
    "\n",
    "strategy_mean_ret = (SPY['strategy'] - 1).diff().mean()\n",
    "strategy_std = (SPY['strategy'] - 1).diff().std()\n",
    "strategy_sr = strategy_mean_ret/strategy_std\n",
    "print('Strategy Sharpe Ratio: ',strategy_sr)\n",
    "\n",
    "print('Maximun drawdown: ', max_drawdown(SPY['strategy']))"
   ]
  },
  {
   "cell_type": "code",
   "execution_count": 79,
   "id": "7d764ecd",
   "metadata": {},
   "outputs": [],
   "source": [
    "x1 = [1]\n",
    "ret1 = []\n",
    "\n",
    "for i in range(len(start_dates)-1):\n",
    "        \n",
    "        classifier2.fit(opt_training_data1[i],training_labels[i])\n",
    "\n",
    "        preds = classifier2.predict(opt_test_data1[i])\n",
    "        profit_i = (preds*test_frames[i]['next_period_return']).sum()\n",
    "        ret1.append(profit_i)\n",
    "        num_names = len(opt_test_data1[i])\n",
    "        x1.append(x1[i] + (x1[i]/num_names)*profit_i)"
   ]
  },
  {
   "cell_type": "code",
   "execution_count": 80,
   "id": "6033d49f",
   "metadata": {},
   "outputs": [
    {
     "name": "stdout",
     "output_type": "stream",
     "text": [
      "Strategy Sharpe Ratio:  0.4694009413933545\n",
      "Maximun drawdown:  0.5976551500284832\n"
     ]
    },
    {
     "data": {
      "image/png": "[encoded data removed]",
      "text/plain": [
       "<Figure size 432x288 with 1 Axes>"
      ]
     },
     "metadata": {
      "needs_background": "light"
     },
     "output_type": "display_data"
    }
   ],
   "source": [
    "SPY = pd.read_pickle(r'/Users/jinnan2/Desktop/uchi course/FInM/lec10/hw3/SPY_cum_ret.pkl')\n",
    "SPY = SPY.loc['2004-09-01':'2018-09-30']\n",
    "SPY = SPY.resample('Q').ffill()\n",
    "SPY['spy_cum_ret'] = (SPY['spy_cum_ret'] - SPY['spy_cum_ret'][0] + 1)\n",
    "SPY['strategy'] = x1\n",
    "\n",
    "SPY.plot();\n",
    "\n",
    "strategy_mean_ret = (SPY['strategy'] - 1).diff().mean()\n",
    "strategy_std = (SPY['strategy'] - 1).diff().std()\n",
    "strategy_sr = strategy_mean_ret/strategy_std\n",
    "print('Strategy Sharpe Ratio: ',strategy_sr)\n",
    "\n",
    "print('Maximun drawdown: ', max_drawdown(SPY['strategy']))"
   ]
  },
  {
   "cell_type": "code",
   "execution_count": 81,
   "id": "b3f4bd8b",
   "metadata": {},
   "outputs": [],
   "source": [
    "x2 = [1]\n",
    "ret2 = []\n",
    "\n",
    "for i in range(len(start_dates)-1):\n",
    "        \n",
    "        classifier2.fit(opt_training_data2[i],training_labels[i])\n",
    "\n",
    "        preds = classifier2.predict(opt_test_data2[i])\n",
    "        profit_i = (preds*test_frames[i]['next_period_return']).sum()\n",
    "        ret2.append(profit_i)\n",
    "        num_names = len(opt_test_data2[i])\n",
    "        x2.append(x2[i] + (x2[i]/num_names)*profit_i)"
   ]
  },
  {
   "cell_type": "code",
   "execution_count": 82,
   "id": "fb31eb66",
   "metadata": {},
   "outputs": [
    {
     "name": "stdout",
     "output_type": "stream",
     "text": [
      "Strategy Sharpe Ratio:  0.4078292541991819\n",
      "Maximun drawdown:  0.715475308044055\n"
     ]
    },
    {
     "data": {
      "image/png": "[encoded data removed]",
      "text/plain": [
       "<Figure size 432x288 with 1 Axes>"
      ]
     },
     "metadata": {
      "needs_background": "light"
     },
     "output_type": "display_data"
    }
   ],
   "source": [
    "SPY = pd.read_pickle(r'/Users/jinnan2/Desktop/uchi course/FInM/lec10/hw3/SPY_cum_ret.pkl')\n",
    "SPY = SPY.loc['2004-09-01':'2018-09-30']\n",
    "SPY = SPY.resample('Q').ffill()\n",
    "SPY['spy_cum_ret'] = (SPY['spy_cum_ret'] - SPY['spy_cum_ret'][0] + 1)\n",
    "SPY['strategy'] = x2\n",
    "\n",
    "SPY.plot();\n",
    "\n",
    "strategy_mean_ret = (SPY['strategy'] - 1).diff().mean()\n",
    "strategy_std = (SPY['strategy'] - 1).diff().std()\n",
    "strategy_sr = strategy_mean_ret/strategy_std\n",
    "print('Strategy Sharpe Ratio: ',strategy_sr)\n",
    "\n",
    "print('Maximun drawdown: ', max_drawdown(SPY['strategy']))"
   ]
  },
  {
   "cell_type": "code",
   "execution_count": null,
   "id": "ff66bed0",
   "metadata": {},
   "outputs": [],
   "source": []
  },
  {
   "cell_type": "code",
   "execution_count": null,
   "id": "0f16aaf1",
   "metadata": {},
   "outputs": [],
   "source": []
  }
 ],
 "metadata": {
  "kernelspec": {
   "display_name": "Python 3 (ipykernel)",
   "language": "python",
   "name": "python3"
  },
  "language_info": {
   "codemirror_mode": {
    "name": "ipython",
    "version": 3
   },
   "file_extension": ".py",
   "mimetype": "text/x-python",
   "name": "python",
   "nbconvert_exporter": "python",
   "pygments_lexer": "ipython3",
   "version": "3.9.7"
  }
 },
 "nbformat": 4,
 "nbformat_minor": 5
}
